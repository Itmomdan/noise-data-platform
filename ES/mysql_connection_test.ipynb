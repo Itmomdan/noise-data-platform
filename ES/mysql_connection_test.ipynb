{
 "cells": [
  {
   "cell_type": "code",
   "execution_count": 4,
   "id": "5c7125f2",
   "metadata": {
    "scrolled": true
   },
   "outputs": [],
   "source": [
    "from pyspark.sql import SparkSession\n",
    "from pyspark.sql.functions import col, concat_ws,explode\n",
    "import mysql.connector\n",
    "\n",
    "# MySQL JDBC 드라이버 경로 (압축 푼 드라이버 JAR 파일 경로)\n",
    "mysql_driver_path = \"/home/ubuntu/mysql-connector-j-9.2.0/mysql-connector-j-9.2.0.jar\"  # 다운로드한 JAR 파일의 경로를 설정해주세요.\n",
    "\n",
    "# SparkSession 생성\n",
    "spark = SparkSession.builder \\\n",
    "    .appName(\"HDFS JSON File Reading\") \\\n",
    "    .config(\"spark.hadoop.fs.defaultFS\", \"hdfs://localhost:9000\") \\\n",
    "    .config(\"spark.jars\", mysql_driver_path) \\\n",
    "    .getOrCreate()"
   ]
  },
  {
   "cell_type": "code",
   "execution_count": 6,
   "id": "72413a16",
   "metadata": {},
   "outputs": [
    {
     "name": "stderr",
     "output_type": "stream",
     "text": [
      "                                                                                \r"
     ]
    }
   ],
   "source": [
    "# HDFS에서 JSON 파일 읽기\n",
    "file_path = \"hdfs://localhost:9000/shared_data/label_data/1.Car/1.horn_of_car\"\n",
    "df = spark.read.json(file_path, multiLine=True)"
   ]
  },
  {
   "cell_type": "code",
   "execution_count": 9,
   "id": "5b8cdc76",
   "metadata": {},
   "outputs": [],
   "source": [
    "# SQL 쿼리로 데이터 추출\n",
    "df.createOrReplaceTempView(\"json_table\")\n",
    "\n",
    "result_df = spark.sql(\"\"\"\n",
    "    SELECT  \n",
    "        json_table.audio.duration, \n",
    "        json_table.audio.recodingType, \n",
    "        exploded_annotations.area.start AS area_start,\n",
    "        exploded_annotations.area.end AS area_end\n",
    "    FROM json_table\n",
    "    LATERAL VIEW explode(json_table.annotations) AS exploded_annotations\n",
    "    LIMIT 50\n",
    "\"\"\")"
   ]
  },
  {
   "cell_type": "code",
   "execution_count": 10,
   "id": "387a52ea",
   "metadata": {},
   "outputs": [
    {
     "name": "stderr",
     "output_type": "stream",
     "text": [
      "[Stage 4:======================================================> (97 + 3) / 100]\r"
     ]
    },
    {
     "name": "stdout",
     "output_type": "stream",
     "text": [
      "+--------+------------+----------+--------+\n",
      "|duration|recodingType|area_start|area_end|\n",
      "+--------+------------+----------+--------+\n",
      "|11.584  |Mono        |9.99      |10.55   |\n",
      "|22.4    |Mono        |16.05     |16.62   |\n",
      "|9.401   |Stereo      |2.0       |7.401   |\n",
      "|7.178   |Stereo      |2.68      |4.13    |\n",
      "|14.944  |Mono        |2.0       |12.944  |\n",
      "|8.733   |Stereo      |3.11      |5.48    |\n",
      "|10.539  |Mono        |2.0       |8.539   |\n",
      "|10.557  |Mono        |2.0       |8.557   |\n",
      "|10.581  |Mono        |2.0       |8.581   |\n",
      "|5.884   |Stereo      |2.0       |3.884   |\n",
      "+--------+------------+----------+--------+\n",
      "only showing top 10 rows\n",
      "\n"
     ]
    },
    {
     "name": "stderr",
     "output_type": "stream",
     "text": [
      "\r",
      "                                                                                \r"
     ]
    }
   ],
   "source": [
    "# 추출된 데이터 출력\n",
    "result_df.show(10, truncate=False)"
   ]
  },
  {
   "cell_type": "code",
   "execution_count": 11,
   "id": "14683c7d",
   "metadata": {},
   "outputs": [],
   "source": [
    "# MySQL 연결 정보\n",
    "mysql_url = \"jdbc:mysql://15.168.145.74:3306/my_db?useUnicode=true&characterEncoding=UTF-8\"\n",
    "mysql_properties = {\n",
    "    \"user\": \"root\",\n",
    "    \"password\": \"root\",\n",
    "    \"driver\": \"com.mysql.cj.jdbc.Driver\"\n",
    "}"
   ]
  },
  {
   "cell_type": "code",
   "execution_count": 13,
   "id": "68a02a3a",
   "metadata": {},
   "outputs": [
    {
     "name": "stderr",
     "output_type": "stream",
     "text": [
      "[Stage 8:================================================>       (87 + 4) / 100]\r"
     ]
    },
    {
     "name": "stdout",
     "output_type": "stream",
     "text": [
      "데이터가 MySQL로 성공적으로 적재되었습니다!\n"
     ]
    },
    {
     "name": "stderr",
     "output_type": "stream",
     "text": [
      "\r",
      "                                                                                \r"
     ]
    }
   ],
   "source": [
    "# MySQL로 DataFrame 적재 (쿼리 결과가 None이 아닌 경우에만)\n",
    "if result_df is not None:\n",
    "    result_df.write.jdbc(url=mysql_url, table=\"test\", mode=\"overwrite\", properties=mysql_properties)\n",
    "    print(\"데이터가 MySQL로 성공적으로 적재되었습니다!\")\n",
    "else:\n",
    "    print(\"쿼리 결과가 없습니다. 데이터 추출이 실패했습니다.\")"
   ]
  },
  {
   "cell_type": "code",
   "execution_count": 15,
   "id": "977e266c",
   "metadata": {},
   "outputs": [],
   "source": [
    "spark.stop()"
   ]
  },
  {
   "cell_type": "code",
   "execution_count": null,
   "id": "20e4939c",
   "metadata": {},
   "outputs": [],
   "source": []
  },
  {
   "cell_type": "code",
   "execution_count": null,
   "id": "3349cbec",
   "metadata": {},
   "outputs": [],
   "source": []
  }
 ],
 "metadata": {
  "kernelspec": {
   "display_name": "Python(ml_env)",
   "language": "python",
   "name": "ml_env"
  },
  "language_info": {
   "codemirror_mode": {
    "name": "ipython",
    "version": 3
   },
   "file_extension": ".py",
   "mimetype": "text/x-python",
   "name": "python",
   "nbconvert_exporter": "python",
   "pygments_lexer": "ipython3",
   "version": "3.8.20"
  }
 },
 "nbformat": 4,
 "nbformat_minor": 5
}
