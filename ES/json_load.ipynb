{
 "cells": [
  {
   "cell_type": "code",
   "execution_count": 2,
   "id": "26a0bc45",
   "metadata": {},
   "outputs": [
    {
     "name": "stdout",
     "output_type": "stream",
     "text": [
      "3.1.2\n"
     ]
    }
   ],
   "source": [
    "import pyspark\n",
    "print(pyspark.__version__)"
   ]
  },
  {
   "cell_type": "code",
   "execution_count": 3,
   "id": "d22a2ef0",
   "metadata": {},
   "outputs": [
    {
     "name": "stderr",
     "output_type": "stream",
     "text": [
      "25/02/12 14:38:43 WARN NativeCodeLoader: Unable to load native-hadoop library for your platform... using builtin-java classes where applicable\n",
      "Using Spark's default log4j profile: org/apache/spark/log4j-defaults.properties\n",
      "Setting default log level to \"WARN\".\n",
      "To adjust logging level use sc.setLogLevel(newLevel). For SparkR, use setLogLevel(newLevel).\n",
      "25/02/12 14:38:43 WARN Utils: Service 'SparkUI' could not bind on port 4040. Attempting port 4041.\n"
     ]
    },
    {
     "name": "stdout",
     "output_type": "stream",
     "text": [
      "3.1.2\n"
     ]
    }
   ],
   "source": [
    "from pyspark.sql import SparkSession\n",
    "\n",
    "spark = SparkSession.builder.getOrCreate()\n",
    "print(spark.version)\n"
   ]
  },
  {
   "cell_type": "code",
   "execution_count": 6,
   "id": "02617bce",
   "metadata": {},
   "outputs": [
    {
     "name": "stderr",
     "output_type": "stream",
     "text": [
      "25/02/14 13:33:56 WARN Utils: Service 'SparkUI' could not bind on port 4040. Attempting port 4041.\n",
      "25/02/14 13:33:56 WARN Utils: Service 'SparkUI' could not bind on port 4041. Attempting port 4042.\n",
      "25/02/14 13:33:56 WARN Utils: Service 'SparkUI' could not bind on port 4042. Attempting port 4043.\n"
     ]
    }
   ],
   "source": [
    "from pyspark.sql import SparkSession\n",
    "\n",
    "# SparkSession 생성\n",
    "spark = SparkSession.builder \\\n",
    "    .appName(\"HDFS JSON File Reading\") \\\n",
    "    .config(\"spark.hadoop.fs.defaultFS\", \"hdfs://localhost:9000\") \\\n",
    "    .getOrCreate()\n",
    "\n"
   ]
  },
  {
   "cell_type": "markdown",
   "id": "7e0929ca",
   "metadata": {},
   "source": []
  },
  {
   "cell_type": "code",
   "execution_count": 7,
   "id": "2a486aad",
   "metadata": {},
   "outputs": [],
   "source": [
    "# HDFS에서 JSON 파일 읽기\n",
    "file_path = \"hdfs://localhost:9000/shared_data/label_data/1.Car/1.horn_of_car\""
   ]
  },
  {
   "cell_type": "code",
   "execution_count": 8,
   "id": "ae5df7bd",
   "metadata": {},
   "outputs": [
    {
     "name": "stderr",
     "output_type": "stream",
     "text": [
      "                                                                                \r"
     ]
    }
   ],
   "source": [
    "df = spark.read.json(file_path, multiLine= True)"
   ]
  },
  {
   "cell_type": "code",
   "execution_count": 9,
   "id": "36c67e7c",
   "metadata": {},
   "outputs": [
    {
     "name": "stdout",
     "output_type": "stream",
     "text": [
      "root\n",
      " |-- annotations: array (nullable = true)\n",
      " |    |-- element: struct (containsNull = true)\n",
      " |    |    |-- area: struct (nullable = true)\n",
      " |    |    |    |-- end: double (nullable = true)\n",
      " |    |    |    |-- start: double (nullable = true)\n",
      " |    |    |-- categories: struct (nullable = true)\n",
      " |    |    |    |-- category_01: string (nullable = true)\n",
      " |    |    |    |-- category_02: string (nullable = true)\n",
      " |    |    |    |-- category_03: string (nullable = true)\n",
      " |    |    |-- decibel: long (nullable = true)\n",
      " |    |    |-- labelName: string (nullable = true)\n",
      " |    |    |-- soundQuality: string (nullable = true)\n",
      " |    |    |-- subCategory: string (nullable = true)\n",
      " |-- audio: struct (nullable = true)\n",
      " |    |-- bitRate: string (nullable = true)\n",
      " |    |-- duration: double (nullable = true)\n",
      " |    |-- fileFormat: string (nullable = true)\n",
      " |    |-- fileName: string (nullable = true)\n",
      " |    |-- fileSize: long (nullable = true)\n",
      " |    |-- recodingType: string (nullable = true)\n",
      " |    |-- sampleRate: string (nullable = true)\n",
      " |-- environment: struct (nullable = true)\n",
      " |    |-- acqDevice: string (nullable = true)\n",
      " |    |-- acqMethod: string (nullable = true)\n",
      " |    |-- acqType: string (nullable = true)\n",
      " |    |-- areaUse: string (nullable = true)\n",
      " |    |-- dayNight: string (nullable = true)\n",
      " |    |-- direction: string (nullable = true)\n",
      " |    |-- distance: string (nullable = true)\n",
      " |    |-- district: string (nullable = true)\n",
      " |    |-- gps: struct (nullable = true)\n",
      " |    |    |-- latitude: double (nullable = true)\n",
      " |    |    |-- longitude: double (nullable = true)\n",
      " |    |-- micClass: string (nullable = true)\n",
      " |    |-- obstacle: string (nullable = true)\n",
      " |    |-- place: string (nullable = true)\n",
      " |    |-- recordingTime: string (nullable = true)\n",
      " |    |-- urban: string (nullable = true)\n",
      " |    |-- weather: string (nullable = true)\n",
      " |-- info: struct (nullable = true)\n",
      " |    |-- contributor: string (nullable = true)\n",
      " |    |-- dateCreated: string (nullable = true)\n",
      " |    |-- description: string (nullable = true)\n",
      " |    |-- uri: string (nullable = true)\n",
      " |    |-- version: double (nullable = true)\n",
      " |    |-- year: long (nullable = true)\n",
      " |-- license: struct (nullable = true)\n",
      " |    |-- name: string (nullable = true)\n",
      " |    |-- url: string (nullable = true)\n",
      "\n"
     ]
    }
   ],
   "source": [
    "df.printSchema()"
   ]
  },
  {
   "cell_type": "code",
   "execution_count": 11,
   "id": "7ab066be",
   "metadata": {},
   "outputs": [
    {
     "name": "stdout",
     "output_type": "stream",
     "text": [
      "+---------------------+--------------------+-----------------------------+--------------------+--------------------+\n",
      "|          annotations|               audio|                  environment|                info|             license|\n",
      "+---------------------+--------------------+-----------------------------+--------------------+--------------------+\n",
      "| [{{10.55, 9.99}, ...|{705kbps, 11.584,...|         {iPHONE 12 mini, ...|{IMR, 2021-09-20,...|{CC 0, https://ww...|\n",
      "| [{{16.62, 16.05},...|{705kbps, 22.4, w...|         {iPHONE 12 mini, ...|{IMR, 2021-09-20,...|{CC 0, https://ww...|\n",
      "| [{{7.401, 2.0}, {...|{1411kbps, 9.401,...|  {갤럭시S6Tab, 자연적, 제...|{IMR, 2021-09-04,...|{CC 0, https://ww...|\n",
      "| [{{4.13, 2.68}, {...|{1411kbps, 7.178,...|  {갤럭시S6Tab, 자연적, 제...|{IMR, 2021-09-04,...|{CC 0, https://ww...|\n",
      "| [{{12.944, 2.0}, ...|{705kbps, 14.944,...|        {TASCAM DR-05X, 자...|{IMR, 2021-10-26,...|{CC 0, https://ww...|\n",
      "| [{{5.48, 3.11}, {...|{1411kbps, 8.733,...|{갤럭시탭S6, 자연적, 제작,...|{IMR, 2021-09-04,...|{CC 0, https://ww...|\n",
      "| [{{8.539, 2.0}, {...|{705kbps, 10.539,...|        {TASCAM DR-05X, 자...|{IMR, 2021-10-26,...|{CC 0, https://ww...|\n",
      "| [{{8.557, 2.0}, {...|{705kbps, 10.557,...|        {TASCAM DR-05X, 자...|{IMR, 2021-10-26,...|{CC 0, https://ww...|\n",
      "| [{{8.581, 2.0}, {...|{705kbps, 10.581,...|        {TASCAM DR-05X, 자...|{IMR, 2021-10-26,...|{CC 0, https://ww...|\n",
      "| [{{3.884, 2.0}, {...|{1411kbps, 5.884,...|{갤럭시탭S6, 자연적, 제작,...|{IMR, 2021-09-04,...|{CC 0, https://ww...|\n",
      "|[{{6.1, 4.04}, {교...|{1411kbps, 8.792,...|{갤럭시탭S6, 자연적, 제작,...|{IMR, 2021-09-04,...|{CC 0, https://ww...|\n",
      "| [{{4.366, 2.0}, {...|{1411kbps, 6.366,...|{갤럭시탭S6, 자연적, 제작,...|{IMR, 2021-09-04,...|{CC 0, https://ww...|\n",
      "| [{{8.59, 5.26}, {...|{1411kbps, 10.592...|{갤럭시탭S6, 자연적, 제작,...|{IMR, 2021-09-04,...|{CC 0, https://ww...|\n",
      "| [{{4.453, 2.0}, {...|{1411kbps, 6.453,...|   {갤럭시.Tab.S6, 자연적,...|{IMR, 2021-09-04,...|{CC 0, https://ww...|\n",
      "| [{{4.981, 2.0}, {...|{1411kbps, 6.981,...|   {갤럭시.Tab.S6, 자연적,...|{IMR, 2021-09-04,...|{CC 0, https://ww...|\n",
      "| [{{11.314, 2.0}, ...|{705kbps, 13.314,...|        {TASCAM DR-05X, 자...|{IMR, 2021-10-26,...|{CC 0, https://ww...|\n",
      "| [{{15.167, 2.0}, ...|{705kbps, 17.167,...|        {TASCAM DR-05X, 자...|{IMR, 2021-10-26,...|{CC 0, https://ww...|\n",
      "| [{{10.479, 2.0}, ...|{705kbps, 12.479,...|        {TASCAM DR-05X, 자...|{IMR, 2021-10-26,...|{CC 0, https://ww...|\n",
      "| [{{12.261, 2.0}, ...|{705kbps, 14.261,...|        {TASCAM DR-05X, 자...|{IMR, 2021-10-26,...|{CC 0, https://ww...|\n",
      "| [{{11.124, 2.0}, ...|{705kbps, 13.124,...|        {TASCAM DR-05X, 자...|{IMR, 2021-10-26,...|{CC 0, https://ww...|\n",
      "+---------------------+--------------------+-----------------------------+--------------------+--------------------+\n",
      "only showing top 20 rows\n",
      "\n"
     ]
    }
   ],
   "source": [
    "df.show()"
   ]
  },
  {
   "cell_type": "code",
   "execution_count": 9,
   "id": "f5ba5131",
   "metadata": {},
   "outputs": [],
   "source": [
    "df.createOrReplaceTempView(\"json_table\")"
   ]
  },
  {
   "cell_type": "code",
   "execution_count": 10,
   "id": "7d9eca5d",
   "metadata": {},
   "outputs": [
    {
     "name": "stdout",
     "output_type": "stream",
     "text": [
      "+------------------+--------+-----------+\n",
      "|fileName          |duration|contributor|\n",
      "+------------------+--------+-----------+\n",
      "|1.자동차_19863.wav|11.584  |IMR        |\n",
      "|1.자동차_19854.wav|22.4    |IMR        |\n",
      "|1.자동차_133.wav  |9.401   |IMR        |\n",
      "|1.자동차_197.wav  |7.178   |IMR        |\n",
      "|1.자동차_30826.wav|14.944  |IMR        |\n",
      "|1.자동차_203.wav  |8.733   |IMR        |\n",
      "|1.자동차_30737.wav|10.539  |IMR        |\n",
      "|1.자동차_30816.wav|10.557  |IMR        |\n",
      "|1.자동차_30880.wav|10.581  |IMR        |\n",
      "|1.자동차_108.wav  |5.884   |IMR        |\n",
      "|1.자동차_18.wav   |8.792   |IMR        |\n",
      "|1.자동차_191.wav  |6.366   |IMR        |\n",
      "|1.자동차_214.wav  |10.592  |IMR        |\n",
      "|1.자동차_224.wav  |6.453   |IMR        |\n",
      "|1.자동차_262.wav  |6.981   |IMR        |\n",
      "|1.자동차_30682.wav|13.314  |IMR        |\n",
      "|1.자동차_30686.wav|17.167  |IMR        |\n",
      "|1.자동차_30687.wav|12.479  |IMR        |\n",
      "|1.자동차_30688.wav|14.261  |IMR        |\n",
      "|1.자동차_30691.wav|13.124  |IMR        |\n",
      "+------------------+--------+-----------+\n",
      "only showing top 20 rows\n",
      "\n"
     ]
    }
   ],
   "source": [
    "spark.sql(\"SELECT audio.fileName, audio.duration, info.contributor FROM json_table\").show(truncate=False)"
   ]
  },
  {
   "cell_type": "code",
   "execution_count": 30,
   "id": "b78917bd",
   "metadata": {},
   "outputs": [
    {
     "name": "stderr",
     "output_type": "stream",
     "text": [
      "[Stage 15:====================================>                  (67 + 4) / 100]\r"
     ]
    },
    {
     "name": "stdout",
     "output_type": "stream",
     "text": [
      "+------------------+--------+------------+------------+\n",
      "|fileName          |duration|recodingType|subCategory |\n",
      "+------------------+--------+------------+------------+\n",
      "|1.자동차_19863.wav|11.584  |Mono        |[소형차경적]|\n",
      "|1.자동차_19854.wav|22.4    |Mono        |[소형차경적]|\n",
      "|1.자동차_133.wav  |9.401   |Stereo      |[대형차경적]|\n",
      "|1.자동차_197.wav  |7.178   |Stereo      |[소형차경적]|\n",
      "|1.자동차_30826.wav|14.944  |Mono        |[소형차경적]|\n",
      "|1.자동차_203.wav  |8.733   |Stereo      |[대형차경적]|\n",
      "|1.자동차_30737.wav|10.539  |Mono        |[소형차경적]|\n",
      "|1.자동차_30816.wav|10.557  |Mono        |[소형차경적]|\n",
      "|1.자동차_30880.wav|10.581  |Mono        |[소형차경적]|\n",
      "|1.자동차_108.wav  |5.884   |Stereo      |[대형차경적]|\n",
      "+------------------+--------+------------+------------+\n",
      "only showing top 10 rows\n",
      "\n"
     ]
    },
    {
     "name": "stderr",
     "output_type": "stream",
     "text": [
      "\r",
      "[Stage 15:==============================================>        (84 + 5) / 100]\r",
      "\r",
      "                                                                                \r"
     ]
    }
   ],
   "source": [
    "spark.sql(\"SELECT audio.fileName, audio.duration, audio.recodingType, annotations.subCategory   FROM json_table LIMIT 50\").show(10,truncate=False)"
   ]
  },
  {
   "cell_type": "code",
   "execution_count": null,
   "id": "6102d4e9",
   "metadata": {},
   "outputs": [],
   "source": []
  },
  {
   "cell_type": "code",
   "execution_count": null,
   "id": "f3fc1bcf",
   "metadata": {},
   "outputs": [],
   "source": []
  },
  {
   "cell_type": "code",
   "execution_count": null,
   "id": "967dc579",
   "metadata": {},
   "outputs": [],
   "source": []
  },
  {
   "cell_type": "code",
   "execution_count": null,
   "id": "bc02294e",
   "metadata": {},
   "outputs": [],
   "source": []
  },
  {
   "cell_type": "code",
   "execution_count": null,
   "id": "55b1c999",
   "metadata": {},
   "outputs": [],
   "source": []
  },
  {
   "cell_type": "code",
   "execution_count": null,
   "id": "8b798893",
   "metadata": {},
   "outputs": [],
   "source": []
  },
  {
   "cell_type": "code",
   "execution_count": null,
   "id": "7f283a83",
   "metadata": {},
   "outputs": [],
   "source": []
  },
  {
   "cell_type": "code",
   "execution_count": null,
   "id": "30da7cd5",
   "metadata": {},
   "outputs": [],
   "source": []
  },
  {
   "cell_type": "code",
   "execution_count": null,
   "id": "a0f51d39",
   "metadata": {},
   "outputs": [],
   "source": []
  },
  {
   "cell_type": "code",
   "execution_count": 5,
   "id": "9e182c24",
   "metadata": {},
   "outputs": [],
   "source": [
    "spark.stop()"
   ]
  },
  {
   "cell_type": "code",
   "execution_count": null,
   "id": "fe7c4c77",
   "metadata": {},
   "outputs": [],
   "source": []
  },
  {
   "cell_type": "code",
   "execution_count": null,
   "id": "f95e7068",
   "metadata": {},
   "outputs": [],
   "source": []
  }
 ],
 "metadata": {
  "kernelspec": {
   "display_name": "Python 3 (python3)",
   "language": "python",
   "name": "python3"
  },
  "language_info": {
   "codemirror_mode": {
    "name": "ipython",
    "version": 3
   },
   "file_extension": ".py",
   "mimetype": "text/x-python",
   "name": "python",
   "nbconvert_exporter": "python",
   "pygments_lexer": "ipython3",
   "version": "3.8.12"
  }
 },
 "nbformat": 4,
 "nbformat_minor": 5
}
