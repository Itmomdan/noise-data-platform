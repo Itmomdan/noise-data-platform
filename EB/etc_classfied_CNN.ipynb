{
 "cells": [
  {
   "cell_type": "markdown",
   "id": "7926c766-e106-4176-a2db-35d94993f785",
   "metadata": {
    "tags": []
   },
   "source": [
    "# CNN + 분류 모델 "
   ]
  },
  {
   "cell_type": "code",
   "execution_count": 1,
   "id": "24b31494",
   "metadata": {},
   "outputs": [],
   "source": [
    "import tensorflow as tf\n",
    "tf.config.set_visible_devices([], 'GPU')"
   ]
  },
  {
   "cell_type": "code",
   "execution_count": 2,
   "id": "f722e487-4466-472e-ae6a-e1a9e43d2d49",
   "metadata": {},
   "outputs": [],
   "source": [
    "import os\n",
    "import numpy as np\n",
    "import pandas as pd\n",
    "import librosa\n",
    "from sklearn.model_selection import train_test_split\n",
    "from sklearn.preprocessing import LabelEncoder\n",
    "from sklearn.metrics import accuracy_score, classification_report, confusion_matrix\n",
    "from tensorflow.keras.models import Sequential\n",
    "from tensorflow.keras.layers import Dense, Conv1D, MaxPooling1D, Flatten, Dropout\n",
    "from tensorflow.keras.utils import to_categorical\n",
    "from tqdm import tqdm"
   ]
  },
  {
   "cell_type": "markdown",
   "id": "155d7094-d02b-46b2-a460-b12032b2ab08",
   "metadata": {},
   "source": [
    "# 데이터 준비 및 전처리\n",
    "- combined_result.csv (raw_data + 기타소음4)"
   ]
  },
  {
   "cell_type": "code",
   "execution_count": 3,
   "id": "2bccf207-e413-4cf2-abb2-a1d19ebf0d56",
   "metadata": {},
   "outputs": [],
   "source": [
    "#학습 데이터 준비\n",
    "df = pd.read_csv(\"combined_result.csv\", encoding='utf-8')\n",
    "feature_cols = [f'mfcc_{i}' for i in range(1, 51)]\n",
    "df = df[feature_cols + ['category_03']]"
   ]
  },
  {
   "cell_type": "code",
   "execution_count": 4,
   "id": "8c6611f2-2ac5-4d66-9e02-c842cc528164",
   "metadata": {},
   "outputs": [
    {
     "data": {
      "text/plain": [
       "(18021, 51)"
      ]
     },
     "execution_count": 4,
     "metadata": {},
     "output_type": "execute_result"
    }
   ],
   "source": [
    "df.shape"
   ]
  },
  {
   "cell_type": "code",
   "execution_count": 5,
   "id": "793a4052-596c-4fdc-a417-acbf98fec260",
   "metadata": {},
   "outputs": [
    {
     "data": {
      "text/plain": [
       "<bound method DataFrame.info of            mfcc_1      mfcc_2     mfcc_3     mfcc_4     mfcc_5     mfcc_6  \\\n",
       "0     -391.004300  107.641975  64.204640  33.718952  20.630340  13.337987   \n",
       "1     -233.662840   87.917620  45.434906  19.435001   9.098841  32.400368   \n",
       "2     -318.161530  126.123180  43.729805 -11.429483  -5.223235  13.667998   \n",
       "3     -385.209260  140.265410  57.263832  -7.932145  -3.877982  14.155136   \n",
       "4     -382.124500  150.004900  61.439040 -17.890905  -7.740589  15.947204   \n",
       "...           ...         ...        ...        ...        ...        ...   \n",
       "18016 -312.639191  162.565536 -36.581287   7.150859 -18.033703  -0.001340   \n",
       "18017 -321.451477  208.936478 -35.191029 -10.881365 -13.412726   2.397377   \n",
       "18018 -428.432526  152.495697   4.484459  36.305748 -22.177618  14.208892   \n",
       "18019 -240.417511  206.323395 -62.882484 -26.428501 -30.405287  -5.296096   \n",
       "18020 -301.803223  225.951523 -34.041290 -76.669899 -21.702627   5.007879   \n",
       "\n",
       "          mfcc_7     mfcc_8     mfcc_9    mfcc_10  ...   mfcc_42   mfcc_43  \\\n",
       "0       9.100019   8.873220   9.340549   8.287990  ... -0.757743 -2.858810   \n",
       "1       5.817845   9.204194  14.611247  20.294502  ...  8.347244 -2.440833   \n",
       "2       0.934844  10.497743   2.401143  22.281258  ...  1.538178 -0.032047   \n",
       "3       6.298158  11.397833   2.566783  15.076704  ...  2.996135 -0.142866   \n",
       "4       3.806582   7.909450   2.633213  14.426663  ...  2.107300  1.768516   \n",
       "...          ...        ...        ...        ...  ...       ...       ...   \n",
       "18016  18.785662   0.155274  -6.167533  -0.036934  ...  0.978441  0.545665   \n",
       "18017   5.675854   6.537034   5.468133  -2.323712  ... -0.835893  1.483713   \n",
       "18018   2.743286  -3.404625   4.353619  -2.182640  ... -1.316911 -1.918315   \n",
       "18019   9.644436  -3.518478   0.734864   0.979430  ... -0.751875 -0.272646   \n",
       "18020  -6.994808  -3.040815   3.713725  -0.843726  ...  1.948457  1.149736   \n",
       "\n",
       "         mfcc_44    mfcc_45    mfcc_46    mfcc_47    mfcc_48    mfcc_49  \\\n",
       "0      -5.101422  -0.198150   7.001447   6.203896  -2.862313 -10.336964   \n",
       "1     -17.408949  -5.891588  22.778133  21.374588 -19.310514 -26.457247   \n",
       "2     -10.759938 -10.296665  14.938017  19.099138  -5.256958 -27.792421   \n",
       "3      -8.995171  -4.227169   8.116351  11.163322  -4.992955 -16.359087   \n",
       "4     -10.489394  -4.815802   9.592706  12.866017  -3.469832 -20.286922   \n",
       "...          ...        ...        ...        ...        ...        ...   \n",
       "18016   0.214506  -0.904289  -0.905006  -1.461157  -1.331534  -1.081596   \n",
       "18017   0.096528   0.914111  -0.760042  -0.644359   1.176192   0.465000   \n",
       "18018  -0.122976   0.112075  -0.384172   0.718058   1.504387   0.550436   \n",
       "18019   0.166117  -0.828950  -1.689774  -1.097977  -1.704201  -1.078815   \n",
       "18020  -0.214424  -0.473664  -0.758053  -1.192869  -2.213222  -2.408570   \n",
       "\n",
       "        mfcc_50  category_03  \n",
       "0     -8.593492         차량경적  \n",
       "1      4.794274         차량경적  \n",
       "2     -7.377015         차량경적  \n",
       "3     -5.441961         차량경적  \n",
       "4     -6.563427         차량경적  \n",
       "...         ...          ...  \n",
       "18016 -0.768962            개  \n",
       "18017  1.438253            개  \n",
       "18018  0.147882            개  \n",
       "18019 -1.519851            개  \n",
       "18020 -2.331245            개  \n",
       "\n",
       "[18021 rows x 51 columns]>"
      ]
     },
     "execution_count": 5,
     "metadata": {},
     "output_type": "execute_result"
    }
   ],
   "source": [
    "df.info"
   ]
  },
  {
   "cell_type": "code",
   "execution_count": 4,
   "id": "c448cb8d-1917-46c5-82fa-90d5f06e14be",
   "metadata": {},
   "outputs": [
    {
     "data": {
      "text/plain": [
       "이륜차주행음    4735\n",
       "이륜차경적     4560\n",
       "차량경적      3189\n",
       "차량사이렌     1990\n",
       "차량주행음     1682\n",
       "헬리콥터       435\n",
       "기차         281\n",
       "고양이        274\n",
       "지하철        245\n",
       "개          217\n",
       "비행기        191\n",
       "세탁기        120\n",
       "청소기        102\n",
       "Name: category_03, dtype: int64"
      ]
     },
     "execution_count": 4,
     "metadata": {},
     "output_type": "execute_result"
    }
   ],
   "source": [
    "df['category_03'].value_counts()"
   ]
  },
  {
   "cell_type": "markdown",
   "id": "8308502d-9670-4b08-b69b-d8215ad47bda",
   "metadata": {},
   "source": [
    "# 소음 카테고리 변환"
   ]
  },
  {
   "cell_type": "code",
   "execution_count": 7,
   "id": "e54da68c",
   "metadata": {},
   "outputs": [],
   "source": [
    "# 소음 카테고리 변환 함수\n",
    "def categorize_noise(category):\n",
    "    if category in ['이륜차경적']:\n",
    "        return '이륜차경적'\n",
    "    elif category in ['이륜차주행음']:\n",
    "        return '이륜차주행음'\n",
    "    elif category in ['차량사이렌']:\n",
    "        return '차량사이렌'\n",
    "    elif category in ['차량주행음']:\n",
    "        return '차량주행음'\n",
    "    elif category in ['차량경적']:\n",
    "        return '차량경적'\n",
    "    else:\n",
    "        return '기타소음'\n",
    "\n",
    "df['label'] = df['category_03'].apply(categorize_noise)\n",
    "df = df.drop('category_03', axis=1)\n",
    "\n",
    "X = df[feature_cols].values  # MFCC 특징 값\n",
    "y = df['label'].values       # 레이블\n",
    "\n",
    "# 레이블 인코딩 (문자 → 숫자)\n",
    "label_encoder = LabelEncoder()\n",
    "y_encoded = label_encoder.fit_transform(y)\n",
    "y_categorical = to_categorical(y_encoded)  # One-hot 인코딩\n",
    "\n",
    "# 데이터셋 분할 (훈련:테스트 = 80:20)\n",
    "X_train, X_test, y_train, y_test = train_test_split(X, y_categorical, test_size=0.2, random_state=42, stratify=y)\n",
    "\n",
    "# CNN 입력 형태로 변환 (3D 텐서: 샘플 수 x 시간 축 x 특징 수)\n",
    "X_train = X_train.reshape(X_train.shape[0], X_train.shape[1], 1)\n",
    "X_test = X_test.reshape(X_test.shape[0], X_test.shape[1], 1)"
   ]
  },
  {
   "cell_type": "code",
   "execution_count": 8,
   "id": "4d880a78-41ae-45c3-8d5c-8bf150f26b57",
   "metadata": {},
   "outputs": [
    {
     "data": {
      "text/plain": [
       "이륜차주행음    4735\n",
       "이륜차경적     4560\n",
       "차량경적      3189\n",
       "차량사이렌     1990\n",
       "기타소음      1865\n",
       "차량주행음     1682\n",
       "Name: label, dtype: int64"
      ]
     },
     "execution_count": 8,
     "metadata": {},
     "output_type": "execute_result"
    }
   ],
   "source": [
    "df['label'].value_counts()"
   ]
  },
  {
   "cell_type": "markdown",
   "id": "f99bd144-7474-4715-b7d7-c63b75b4b493",
   "metadata": {},
   "source": [
    "# 모델 생성"
   ]
  },
  {
   "cell_type": "markdown",
   "id": "20b410af-f7c3-49e4-84e0-51c07d1a9fcc",
   "metadata": {},
   "source": [
    "## CNN"
   ]
  },
  {
   "cell_type": "code",
   "execution_count": 9,
   "id": "ef6939f1-4285-4765-8f19-219a246dd0e3",
   "metadata": {},
   "outputs": [],
   "source": [
    "# CNN 모델 정의\n",
    "model = Sequential([\n",
    "    Conv1D(64, kernel_size=3, activation='relu', input_shape=(X_train.shape[1], 1)),\n",
    "    MaxPooling1D(pool_size=2),\n",
    "    Dropout(0.3),\n",
    "    \n",
    "    Conv1D(128, kernel_size=3, activation='relu'),\n",
    "    MaxPooling1D(pool_size=2),\n",
    "    Dropout(0.3),\n",
    "    \n",
    "    Flatten(),\n",
    "    Dense(128, activation='relu'),\n",
    "    Dropout(0.3),\n",
    "    Dense(y_categorical.shape[1], activation='softmax')  # 출력층 (카테고리 수만큼 출력)\n",
    "])"
   ]
  },
  {
   "cell_type": "code",
   "execution_count": 10,
   "id": "9ed9bb7d-d678-4942-89f4-ed400b1f0471",
   "metadata": {},
   "outputs": [
    {
     "name": "stdout",
     "output_type": "stream",
     "text": [
      "Epoch 1/30\n",
      "451/451 [==============================] - 3s 6ms/step - loss: 0.8353 - accuracy: 0.7090 - val_loss: 0.4207 - val_accuracy: 0.8480\n",
      "Epoch 2/30\n",
      "451/451 [==============================] - 3s 6ms/step - loss: 0.4634 - accuracy: 0.8246 - val_loss: 0.3068 - val_accuracy: 0.8946\n",
      "Epoch 3/30\n",
      "451/451 [==============================] - 3s 6ms/step - loss: 0.3797 - accuracy: 0.8584 - val_loss: 0.2581 - val_accuracy: 0.9079\n",
      "Epoch 4/30\n",
      "451/451 [==============================] - 2s 5ms/step - loss: 0.3400 - accuracy: 0.8744 - val_loss: 0.2460 - val_accuracy: 0.9065\n",
      "Epoch 5/30\n",
      "451/451 [==============================] - 2s 5ms/step - loss: 0.3126 - accuracy: 0.8885 - val_loss: 0.2271 - val_accuracy: 0.9168\n",
      "Epoch 6/30\n",
      "451/451 [==============================] - 2s 5ms/step - loss: 0.2877 - accuracy: 0.8982 - val_loss: 0.2178 - val_accuracy: 0.9265\n",
      "Epoch 7/30\n",
      "451/451 [==============================] - 2s 5ms/step - loss: 0.2680 - accuracy: 0.9012 - val_loss: 0.2047 - val_accuracy: 0.9212\n",
      "Epoch 8/30\n",
      "451/451 [==============================] - 2s 5ms/step - loss: 0.2570 - accuracy: 0.9084 - val_loss: 0.1922 - val_accuracy: 0.9293\n",
      "Epoch 9/30\n",
      "451/451 [==============================] - 2s 5ms/step - loss: 0.2349 - accuracy: 0.9156 - val_loss: 0.1769 - val_accuracy: 0.9351\n",
      "Epoch 10/30\n",
      "451/451 [==============================] - 2s 5ms/step - loss: 0.2262 - accuracy: 0.9210 - val_loss: 0.1936 - val_accuracy: 0.9329\n",
      "Epoch 11/30\n",
      "451/451 [==============================] - 2s 5ms/step - loss: 0.2206 - accuracy: 0.9208 - val_loss: 0.1763 - val_accuracy: 0.9354\n",
      "Epoch 12/30\n",
      "451/451 [==============================] - 2s 5ms/step - loss: 0.2153 - accuracy: 0.9223 - val_loss: 0.1698 - val_accuracy: 0.9393\n",
      "Epoch 13/30\n",
      "451/451 [==============================] - 2s 5ms/step - loss: 0.2051 - accuracy: 0.9245 - val_loss: 0.1688 - val_accuracy: 0.9373\n",
      "Epoch 14/30\n",
      "451/451 [==============================] - 2s 5ms/step - loss: 0.1946 - accuracy: 0.9302 - val_loss: 0.1825 - val_accuracy: 0.9318\n",
      "Epoch 15/30\n",
      "451/451 [==============================] - 2s 5ms/step - loss: 0.1844 - accuracy: 0.9327 - val_loss: 0.1648 - val_accuracy: 0.9390\n",
      "Epoch 16/30\n",
      "451/451 [==============================] - 2s 5ms/step - loss: 0.1940 - accuracy: 0.9288 - val_loss: 0.1683 - val_accuracy: 0.9404\n",
      "Epoch 17/30\n",
      "451/451 [==============================] - 2s 5ms/step - loss: 0.1839 - accuracy: 0.9319 - val_loss: 0.1585 - val_accuracy: 0.9420\n",
      "Epoch 18/30\n",
      "451/451 [==============================] - 2s 5ms/step - loss: 0.1723 - accuracy: 0.9355 - val_loss: 0.1846 - val_accuracy: 0.9318\n",
      "Epoch 19/30\n",
      "451/451 [==============================] - 2s 5ms/step - loss: 0.1800 - accuracy: 0.9343 - val_loss: 0.1726 - val_accuracy: 0.9426\n",
      "Epoch 20/30\n",
      "451/451 [==============================] - 2s 5ms/step - loss: 0.1599 - accuracy: 0.9403 - val_loss: 0.1562 - val_accuracy: 0.9434\n",
      "Epoch 21/30\n",
      "451/451 [==============================] - 2s 5ms/step - loss: 0.1595 - accuracy: 0.9405 - val_loss: 0.1640 - val_accuracy: 0.9434\n",
      "Epoch 22/30\n",
      "451/451 [==============================] - 2s 5ms/step - loss: 0.1681 - accuracy: 0.9395 - val_loss: 0.1578 - val_accuracy: 0.9467\n",
      "Epoch 23/30\n",
      "451/451 [==============================] - 2s 5ms/step - loss: 0.1539 - accuracy: 0.9414 - val_loss: 0.1492 - val_accuracy: 0.9445\n",
      "Epoch 24/30\n",
      "451/451 [==============================] - 2s 5ms/step - loss: 0.1565 - accuracy: 0.9425 - val_loss: 0.1594 - val_accuracy: 0.9423\n",
      "Epoch 25/30\n",
      "451/451 [==============================] - 2s 5ms/step - loss: 0.1567 - accuracy: 0.9423 - val_loss: 0.1577 - val_accuracy: 0.9437\n",
      "Epoch 26/30\n",
      "451/451 [==============================] - 2s 5ms/step - loss: 0.1460 - accuracy: 0.9467 - val_loss: 0.1539 - val_accuracy: 0.9426\n",
      "Epoch 27/30\n",
      "451/451 [==============================] - 2s 5ms/step - loss: 0.1443 - accuracy: 0.9464 - val_loss: 0.1473 - val_accuracy: 0.9490\n",
      "Epoch 28/30\n",
      "451/451 [==============================] - 2s 5ms/step - loss: 0.1364 - accuracy: 0.9488 - val_loss: 0.1532 - val_accuracy: 0.9479\n",
      "Epoch 29/30\n",
      "451/451 [==============================] - 2s 5ms/step - loss: 0.1397 - accuracy: 0.9497 - val_loss: 0.1637 - val_accuracy: 0.9417\n",
      "Epoch 30/30\n",
      "451/451 [==============================] - 2s 5ms/step - loss: 0.1421 - accuracy: 0.9468 - val_loss: 0.1605 - val_accuracy: 0.9459\n",
      "113/113 [==============================] - 0s 1ms/step - loss: 0.1605 - accuracy: 0.9459\n",
      "Accuracy: 0.9459\n",
      "Classification Report:\n",
      "               precision    recall  f1-score   support\n",
      "\n",
      "        기타소음       0.96      0.92      0.94       373\n",
      "       이륜차경적       0.98      0.95      0.97       912\n",
      "      이륜차주행음       0.93      0.95      0.94       947\n",
      "        차량경적       0.92      0.97      0.94       638\n",
      "       차량사이렌       0.98      0.95      0.96       398\n",
      "       차량주행음       0.87      0.90      0.88       337\n",
      "\n",
      "    accuracy                           0.95      3605\n",
      "   macro avg       0.94      0.94      0.94      3605\n",
      "weighted avg       0.95      0.95      0.95      3605\n",
      "\n",
      "Confusion Matrix:\n",
      " [[345   4  15   2   6   1]\n",
      " [  0 866   3  43   0   0]\n",
      " [ 10   1 902   0   0  34]\n",
      " [  2   9   8 616   2   1]\n",
      " [  3   0   5   3 378   9]\n",
      " [  0   0  32   2   0 303]]\n"
     ]
    }
   ],
   "source": [
    "# 모델 컴파일 및 학습\n",
    "model.compile(optimizer='adam', loss='categorical_crossentropy', metrics=['accuracy'])\n",
    "history = model.fit(X_train, y_train, epochs=30, batch_size=32, validation_data=(X_test, y_test))\n",
    "\n",
    "# 테스트 정확도 출력\n",
    "test_loss, test_accuracy = model.evaluate(X_test, y_test)\n",
    "\n",
    "# 테스트 데이터에 대한 예측 수행\n",
    "y_pred = model.predict(X_test)\n",
    "y_pred_classes = np.argmax(y_pred, axis=1)  # 예측된 클래스 인덱스\n",
    "y_true_classes = np.argmax(y_test, axis=1)  # 실제 클래스 인덱스\n",
    "\n",
    "# 정확도 계산\n",
    "accuracy = accuracy_score(y_true_classes, y_pred_classes)\n",
    "print(f\"Accuracy: {accuracy:.4f}\")\n",
    "\n",
    "# 분류 보고서 출력\n",
    "class_names = label_encoder.classes_\n",
    "report = classification_report(y_true_classes, y_pred_classes, target_names=class_names)\n",
    "print(\"Classification Report:\\n\", report)\n",
    "\n",
    "# 혼동 행렬 출력\n",
    "conf_matrix = confusion_matrix(y_true_classes, y_pred_classes)\n",
    "print(\"Confusion Matrix:\\n\", conf_matrix)\n"
   ]
  },
  {
   "cell_type": "code",
   "execution_count": 12,
   "id": "86ff2ab9-b827-4f95-9002-48a342848c44",
   "metadata": {},
   "outputs": [
    {
     "name": "stdout",
     "output_type": "stream",
     "text": [
      "모델이 cnn_model_6classfication.h5 파일로 저장되었습니다.\n"
     ]
    }
   ],
   "source": [
    "# 모델 저장\n",
    "model.save('cnn_model_6classfication.h5')\n",
    "print(\"모델이 cnn_model_6classfication.h5 파일로 저장되었습니다.\")"
   ]
  },
  {
   "cell_type": "markdown",
   "id": "449aec16-cea2-4e4e-ba11-6a89faef0790",
   "metadata": {},
   "source": [
    "## LightGBM"
   ]
  },
  {
   "cell_type": "code",
   "execution_count": 5,
   "id": "badb38b0-39a1-497e-9cad-1032c4faad6c",
   "metadata": {},
   "outputs": [
    {
     "name": "stdout",
     "output_type": "stream",
     "text": [
      "✅ LightGBM 정확도: 0.9451\n",
      "\n",
      "🎯 Confusion Matrix:\n",
      "   기타소음  이륜차경적  이륜차주행음  차량경적  차량사이렌  차량주행음\n",
      "0   346      4      15     1      4      3\n",
      "1     3    870       2    37      0      0\n",
      "2    15      1     912     1      0     18\n",
      "3     1     22      14   595      1      5\n",
      "4     2      0       4     1    385      6\n",
      "5     6      0      31     1      0    299\n",
      "\n",
      "📊 Classification Report:\n",
      "              precision    recall  f1-score   support\n",
      "\n",
      "        기타소음       0.93      0.93      0.93       373\n",
      "       이륜차경적       0.97      0.95      0.96       912\n",
      "      이륜차주행음       0.93      0.96      0.95       947\n",
      "        차량경적       0.94      0.93      0.93       638\n",
      "       차량사이렌       0.99      0.97      0.98       398\n",
      "       차량주행음       0.90      0.89      0.90       337\n",
      "\n",
      "    accuracy                           0.95      3605\n",
      "   macro avg       0.94      0.94      0.94      3605\n",
      "weighted avg       0.95      0.95      0.95      3605\n",
      "\n"
     ]
    }
   ],
   "source": [
    "import numpy as np\n",
    "import pandas as pd\n",
    "from sklearn.model_selection import train_test_split\n",
    "from sklearn.preprocessing import LabelEncoder\n",
    "from lightgbm import LGBMClassifier\n",
    "from sklearn.metrics import accuracy_score, classification_report, confusion_matrix\n",
    "\n",
    "# 데이터 준비\n",
    "df = pd.read_csv(\"combined_result.csv\", encoding='utf-8')\n",
    "feature_cols = [f'mfcc_{i}' for i in range(1, 51)]\n",
    "df = df[feature_cols + ['category_03']]\n",
    "\n",
    "# 소음 카테고리 변환 함수\n",
    "def categorize_noise(category):\n",
    "    if category in ['이륜차경적']:\n",
    "        return '이륜차경적'\n",
    "    elif category in ['이륜차주행음']:\n",
    "        return '이륜차주행음'\n",
    "    elif category in ['차량사이렌']:\n",
    "        return '차량사이렌'\n",
    "    elif category in ['차량주행음']:\n",
    "        return '차량주행음'\n",
    "    elif category in ['차량경적']:\n",
    "        return '차량경적'\n",
    "    else:\n",
    "        return '기타소음'\n",
    "\n",
    "df['label'] = df['category_03'].apply(categorize_noise)\n",
    "df = df.drop('category_03', axis=1)\n",
    "\n",
    "X = df[feature_cols].values  # MFCC 특징 값\n",
    "y = df['label'].values       # 레이블\n",
    "\n",
    "# 레이블 인코딩 (문자 → 숫자)\n",
    "label_encoder = LabelEncoder()\n",
    "y_encoded = label_encoder.fit_transform(y)\n",
    "\n",
    "# 데이터셋 분할 (훈련:테스트 = 80:20)\n",
    "X_train, X_test, y_train, y_test = train_test_split(X, y_encoded, test_size=0.2, random_state=42, stratify=y_encoded)\n",
    "\n",
    "# # LightGBM 모델 정의 및 학습\n",
    "# model = LGBMClassifier(n_estimators=100, learning_rate=0.1, max_depth=-1, random_state=42)\n",
    "# model.fit(X_train, y_train)\n",
    "\n",
    "# # 테스트 데이터에 대한 예측 수행\n",
    "# y_pred = model.predict(X_test)\n",
    "\n",
    "# # 정확도 계산\n",
    "# accuracy = accuracy_score(y_test, y_pred)\n",
    "# print(f\"Accuracy: {accuracy:.4f}\")\n",
    "\n",
    "# # 분류 보고서 출력\n",
    "class_names = label_encoder.classes_\n",
    "# report = classification_report(y_test, y_pred, target_names=class_names)\n",
    "# print(\"Classification Report:\\n\", report)\n",
    "\n",
    "# # 혼동 행렬 출력\n",
    "# conf_matrix = confusion_matrix(y_test, y_pred)\n",
    "# print(\"Confusion Matrix:\\n\", conf_matrix)\n",
    "\n",
    "\n",
    "\n",
    "# 📌 5. LGBM 모델 정의 및 학습\n",
    "model = LGBMClassifier(n_estimators=100, learning_rate=0.1, max_depth=-1, random_state=42)\n",
    "model.fit(X_train, y_train)\n",
    "\n",
    "# 📌 6. 예측 수행\n",
    "y_pred = model.predict(X_test)\n",
    "\n",
    "# 📌 7. 평가 결과 출력\n",
    "acc = accuracy_score(y_test, y_pred)\n",
    "print(f\"✅ LightGBM 정확도: {acc:.4f}\")\n",
    "\n",
    "# 📌 8. 혼동 행렬 출력\n",
    "print(\"\\n🎯 Confusion Matrix:\")\n",
    "conf_matrix = pd.DataFrame(confusion_matrix(y_test, y_pred), columns=class_names)\n",
    "print(conf_matrix)\n",
    "\n",
    "# 📌 9. 분류 보고서 출력\n",
    "print(\"\\n📊 Classification Report:\")\n",
    "print(classification_report(y_test, y_pred, target_names=class_names.tolist()))"
   ]
  },
  {
   "cell_type": "code",
   "execution_count": null,
   "id": "04e43b1d-0e0d-4494-9453-5512e8262b76",
   "metadata": {},
   "outputs": [],
   "source": []
  },
  {
   "cell_type": "markdown",
   "id": "c62be1d6-915c-4713-bf59-da177619efd7",
   "metadata": {},
   "source": [
    "## ResNet"
   ]
  },
  {
   "cell_type": "code",
   "execution_count": 6,
   "id": "11fe2a30-0a4a-4d27-91c2-8fd030e2e00e",
   "metadata": {},
   "outputs": [
    {
     "name": "stdout",
     "output_type": "stream",
     "text": [
      "Epoch 1/30\n",
      "451/451 [==============================] - 17s 31ms/step - loss: 0.4224 - accuracy: 0.8466 - val_loss: 0.4001 - val_accuracy: 0.8749\n",
      "Epoch 2/30\n",
      "451/451 [==============================] - 14s 30ms/step - loss: 0.2593 - accuracy: 0.9084 - val_loss: 0.2376 - val_accuracy: 0.9204\n",
      "Epoch 3/30\n",
      "451/451 [==============================] - 14s 31ms/step - loss: 0.1922 - accuracy: 0.9308 - val_loss: 0.1670 - val_accuracy: 0.9387\n",
      "Epoch 4/30\n",
      "451/451 [==============================] - 14s 31ms/step - loss: 0.1707 - accuracy: 0.9372 - val_loss: 0.2102 - val_accuracy: 0.9243\n",
      "Epoch 5/30\n",
      "451/451 [==============================] - 14s 31ms/step - loss: 0.1465 - accuracy: 0.9467 - val_loss: 0.2328 - val_accuracy: 0.9209\n",
      "Epoch 6/30\n",
      "451/451 [==============================] - 19s 42ms/step - loss: 0.1316 - accuracy: 0.9521 - val_loss: 0.2120 - val_accuracy: 0.9345\n",
      "Epoch 7/30\n",
      "451/451 [==============================] - 21s 46ms/step - loss: 0.1309 - accuracy: 0.9502 - val_loss: 0.1763 - val_accuracy: 0.9373\n",
      "Epoch 8/30\n",
      "451/451 [==============================] - 23s 51ms/step - loss: 0.1076 - accuracy: 0.9587 - val_loss: 0.1661 - val_accuracy: 0.9442\n",
      "Epoch 9/30\n",
      "451/451 [==============================] - 24s 54ms/step - loss: 0.1111 - accuracy: 0.9577 - val_loss: 0.1977 - val_accuracy: 0.9334\n",
      "Epoch 10/30\n",
      "451/451 [==============================] - 25s 55ms/step - loss: 0.0930 - accuracy: 0.9645 - val_loss: 0.1632 - val_accuracy: 0.9459\n",
      "Epoch 11/30\n",
      "451/451 [==============================] - 25s 55ms/step - loss: 0.0872 - accuracy: 0.9656 - val_loss: 0.2032 - val_accuracy: 0.9359\n",
      "Epoch 12/30\n",
      "451/451 [==============================] - 24s 54ms/step - loss: 0.0814 - accuracy: 0.9680 - val_loss: 0.1932 - val_accuracy: 0.9434\n",
      "Epoch 13/30\n",
      "451/451 [==============================] - 23s 51ms/step - loss: 0.0746 - accuracy: 0.9711 - val_loss: 0.1979 - val_accuracy: 0.9368\n",
      "Epoch 14/30\n",
      "451/451 [==============================] - 17s 38ms/step - loss: 0.0772 - accuracy: 0.9703 - val_loss: 0.1848 - val_accuracy: 0.9462\n",
      "Epoch 15/30\n",
      "451/451 [==============================] - 14s 32ms/step - loss: 0.0724 - accuracy: 0.9715 - val_loss: 0.1793 - val_accuracy: 0.9412\n",
      "Epoch 16/30\n",
      "451/451 [==============================] - 14s 31ms/step - loss: 0.0572 - accuracy: 0.9782 - val_loss: 0.1894 - val_accuracy: 0.9448\n",
      "Epoch 17/30\n",
      "451/451 [==============================] - 14s 31ms/step - loss: 0.0555 - accuracy: 0.9772 - val_loss: 0.1976 - val_accuracy: 0.9387\n",
      "Epoch 18/30\n",
      "451/451 [==============================] - 14s 31ms/step - loss: 0.0603 - accuracy: 0.9763 - val_loss: 0.1761 - val_accuracy: 0.9440\n",
      "Epoch 19/30\n",
      "451/451 [==============================] - 14s 31ms/step - loss: 0.0566 - accuracy: 0.9778 - val_loss: 0.2768 - val_accuracy: 0.9215\n",
      "Epoch 20/30\n",
      "451/451 [==============================] - 14s 31ms/step - loss: 0.0503 - accuracy: 0.9795 - val_loss: 0.1497 - val_accuracy: 0.9515\n",
      "Epoch 21/30\n",
      "451/451 [==============================] - 14s 31ms/step - loss: 0.0538 - accuracy: 0.9788 - val_loss: 0.1958 - val_accuracy: 0.9423\n",
      "Epoch 22/30\n",
      "451/451 [==============================] - 14s 31ms/step - loss: 0.0415 - accuracy: 0.9828 - val_loss: 0.1806 - val_accuracy: 0.9456\n",
      "Epoch 23/30\n",
      "451/451 [==============================] - 14s 31ms/step - loss: 0.0411 - accuracy: 0.9829 - val_loss: 0.1921 - val_accuracy: 0.9501\n",
      "Epoch 24/30\n",
      "451/451 [==============================] - 14s 31ms/step - loss: 0.0450 - accuracy: 0.9820 - val_loss: 0.1640 - val_accuracy: 0.9490\n",
      "Epoch 25/30\n",
      "451/451 [==============================] - 14s 31ms/step - loss: 0.0371 - accuracy: 0.9850 - val_loss: 0.1871 - val_accuracy: 0.9487\n",
      "Epoch 26/30\n",
      "451/451 [==============================] - 19s 43ms/step - loss: 0.0339 - accuracy: 0.9861 - val_loss: 0.2008 - val_accuracy: 0.9470\n",
      "Epoch 27/30\n",
      "451/451 [==============================] - 21s 47ms/step - loss: 0.0475 - accuracy: 0.9822 - val_loss: 0.2236 - val_accuracy: 0.9423\n",
      "Epoch 28/30\n",
      "451/451 [==============================] - 27s 60ms/step - loss: 0.0383 - accuracy: 0.9837 - val_loss: 0.1660 - val_accuracy: 0.9473\n",
      "Epoch 29/30\n",
      "451/451 [==============================] - 25s 55ms/step - loss: 0.0343 - accuracy: 0.9847 - val_loss: 0.2496 - val_accuracy: 0.9359\n",
      "Epoch 30/30\n",
      "451/451 [==============================] - 25s 56ms/step - loss: 0.0369 - accuracy: 0.9853 - val_loss: 0.1784 - val_accuracy: 0.9487\n",
      "Accuracy: 0.9487\n",
      "Classification Report:\n",
      "               precision    recall  f1-score   support\n",
      "\n",
      "        기타소음       0.96      0.97      0.96       373\n",
      "       이륜차경적       0.96      0.96      0.96       912\n",
      "      이륜차주행음       0.95      0.95      0.95       947\n",
      "        차량경적       0.94      0.93      0.93       638\n",
      "       차량사이렌       0.97      0.97      0.97       398\n",
      "       차량주행음       0.90      0.91      0.90       337\n",
      "\n",
      "    accuracy                           0.95      3605\n",
      "   macro avg       0.95      0.95      0.95      3605\n",
      "weighted avg       0.95      0.95      0.95      3605\n",
      "\n",
      "Confusion Matrix:\n",
      " [[361   1   7   1   1   2]\n",
      " [  0 873   3  35   1   0]\n",
      " [ 11   0 904   1   5  26]\n",
      " [  1  31  11 591   2   2]\n",
      " [  3   0   3   3 386   3]\n",
      " [  0   0  27   1   4 305]]\n"
     ]
    }
   ],
   "source": [
    "import numpy as np\n",
    "import pandas as pd\n",
    "from sklearn.model_selection import train_test_split\n",
    "from sklearn.preprocessing import LabelEncoder\n",
    "from tensorflow.keras.utils import to_categorical\n",
    "from tensorflow.keras.models import Model\n",
    "from tensorflow.keras.layers import Input, Conv1D, BatchNormalization, Activation, Add, GlobalAveragePooling1D, Dense\n",
    "from tensorflow.keras.optimizers import Adam\n",
    "from sklearn.metrics import accuracy_score, classification_report, confusion_matrix\n",
    "\n",
    "# 데이터 준비\n",
    "df = pd.read_csv(\"combined_result.csv\", encoding='utf-8')\n",
    "feature_cols = [f'mfcc_{i}' for i in range(1, 51)]\n",
    "df = df[feature_cols + ['category_03']]\n",
    "\n",
    "# 소음 카테고리 변환 함수\n",
    "def categorize_noise(category):\n",
    "    if category in ['이륜차경적']:\n",
    "        return '이륜차경적'\n",
    "    elif category in ['이륜차주행음']:\n",
    "        return '이륜차주행음'\n",
    "    elif category in ['차량사이렌']:\n",
    "        return '차량사이렌'\n",
    "    elif category in ['차량주행음']:\n",
    "        return '차량주행음'\n",
    "    elif category in ['차량경적']:\n",
    "        return '차량경적'\n",
    "    else:\n",
    "        return '기타소음'\n",
    "\n",
    "df['label'] = df['category_03'].apply(categorize_noise)\n",
    "df = df.drop('category_03', axis=1)\n",
    "\n",
    "X = df[feature_cols].values  # MFCC 특징 값\n",
    "y = df['label'].values       # 레이블\n",
    "\n",
    "# 레이블 인코딩 (문자 → 숫자)\n",
    "label_encoder = LabelEncoder()\n",
    "y_encoded = label_encoder.fit_transform(y)\n",
    "y_categorical = to_categorical(y_encoded)  # One-hot 인코딩\n",
    "\n",
    "# 데이터셋 분할 (훈련:테스트 = 80:20)\n",
    "X_train, X_test, y_train, y_test = train_test_split(X, y_categorical, test_size=0.2, random_state=42, stratify=y)\n",
    "\n",
    "# CNN 입력 형태로 변환 (3D 텐서: 샘플 수 x 시간 축 x 특징 수)\n",
    "X_train = X_train.reshape(X_train.shape[0], X_train.shape[1], 1)\n",
    "X_test = X_test.reshape(X_test.shape[0], X_test.shape[1], 1)\n",
    "\n",
    "# ResNet 블록 정의\n",
    "def residual_block(x, filters, kernel_size=3, stride=1):\n",
    "    shortcut = x\n",
    "    x = Conv1D(filters, kernel_size, strides=stride, padding='same')(x)\n",
    "    x = BatchNormalization()(x)\n",
    "    x = Activation('relu')(x)\n",
    "    x = Conv1D(filters, kernel_size, padding='same')(x)\n",
    "    x = BatchNormalization()(x)\n",
    "    \n",
    "    if stride != 1 or shortcut.shape[-1] != filters:\n",
    "        shortcut = Conv1D(filters, 1, strides=stride, padding='same')(shortcut)\n",
    "        shortcut = BatchNormalization()(shortcut)\n",
    "    \n",
    "    x = Add()([x, shortcut])\n",
    "    x = Activation('relu')(x)\n",
    "    return x\n",
    "\n",
    "# ResNet 모델 정의\n",
    "def build_resnet(input_shape, num_classes):\n",
    "    inputs = Input(shape=input_shape)\n",
    "    x = Conv1D(64, 7, strides=2, padding='same')(inputs)\n",
    "    x = BatchNormalization()(x)\n",
    "    x = Activation('relu')(x)\n",
    "    \n",
    "    x = residual_block(x, 64)\n",
    "    x = residual_block(x, 64)\n",
    "    x = residual_block(x, 128, stride=2)\n",
    "    x = residual_block(x, 128)\n",
    "    x = residual_block(x, 256, stride=2)\n",
    "    x = residual_block(x, 256)\n",
    "    \n",
    "    x = GlobalAveragePooling1D()(x)\n",
    "    outputs = Dense(num_classes, activation='softmax')(x)\n",
    "    \n",
    "    model = Model(inputs, outputs)\n",
    "    return model\n",
    "\n",
    "# 모델 생성 및 컴파일\n",
    "model = build_resnet(input_shape=(X_train.shape[1], 1), num_classes=y_categorical.shape[1])\n",
    "model.compile(optimizer=Adam(learning_rate=0.001), loss='categorical_crossentropy', metrics=['accuracy'])\n",
    "\n",
    "# 모델 학습\n",
    "history = model.fit(X_train, y_train, epochs=30, batch_size=32, validation_data=(X_test, y_test))\n",
    "\n",
    "# 테스트 데이터에 대한 예측 수행\n",
    "y_pred = model.predict(X_test)\n",
    "y_pred_classes = np.argmax(y_pred, axis=1)  # 예측된 클래스 인덱스\n",
    "y_true_classes = np.argmax(y_test, axis=1)  # 실제 클래스 인덱스\n",
    "\n",
    "# 정확도 계산\n",
    "accuracy = accuracy_score(y_true_classes, y_pred_classes)\n",
    "print(f\"Accuracy: {accuracy:.4f}\")\n",
    "\n",
    "# 분류 보고서 출력\n",
    "class_names = label_encoder.classes_\n",
    "report = classification_report(y_true_classes, y_pred_classes, target_names=class_names)\n",
    "print(\"Classification Report:\\n\", report)\n",
    "\n",
    "# 혼동 행렬 출력\n",
    "conf_matrix = confusion_matrix(y_true_classes, y_pred_classes)\n",
    "print(\"Confusion Matrix:\\n\", conf_matrix)\n"
   ]
  },
  {
   "cell_type": "code",
   "execution_count": null,
   "id": "0b0e1796-51e6-4d3d-a92f-25b77312c11f",
   "metadata": {},
   "outputs": [],
   "source": []
  },
  {
   "cell_type": "code",
   "execution_count": null,
   "id": "fd9d4ae9-1427-4bfe-b054-04420055ddf5",
   "metadata": {},
   "outputs": [
    {
     "name": "stdout",
     "output_type": "stream",
     "text": [
      "Epoch 1/30\n",
      "1352/1352 [==============================] - 93s 67ms/step - loss: 0.5031 - accuracy: 0.8219 - val_loss: 0.2931 - val_accuracy: 0.9043\n",
      "Epoch 2/30\n",
      "1352/1352 [==============================] - 88s 65ms/step - loss: 0.2956 - accuracy: 0.8900 - val_loss: 0.2821 - val_accuracy: 0.9004\n",
      "Epoch 3/30\n",
      "1352/1352 [==============================] - 87s 64ms/step - loss: 0.2332 - accuracy: 0.9119 - val_loss: 0.1842 - val_accuracy: 0.9312\n",
      "Epoch 4/30\n",
      "1352/1352 [==============================] - 82s 61ms/step - loss: 0.1939 - accuracy: 0.9253 - val_loss: 0.2205 - val_accuracy: 0.9234\n",
      "Epoch 5/30\n",
      "1352/1352 [==============================] - 81s 60ms/step - loss: 0.1646 - accuracy: 0.9359 - val_loss: 0.2177 - val_accuracy: 0.9221\n",
      "Epoch 6/30\n",
      "1352/1352 [==============================] - 81s 60ms/step - loss: 0.1413 - accuracy: 0.9435 - val_loss: 0.2011 - val_accuracy: 0.9334\n",
      "Epoch 7/30\n",
      "1352/1352 [==============================] - 84s 62ms/step - loss: 0.1164 - accuracy: 0.9520 - val_loss: 0.1944 - val_accuracy: 0.9376\n",
      "Epoch 8/30\n",
      "1352/1352 [==============================] - 88s 65ms/step - loss: 0.1056 - accuracy: 0.9562 - val_loss: 0.1720 - val_accuracy: 0.9431\n",
      "Epoch 9/30\n",
      "1352/1352 [==============================] - 84s 62ms/step - loss: 0.0902 - accuracy: 0.9612 - val_loss: 0.1898 - val_accuracy: 0.9406\n",
      "Epoch 10/30\n",
      "1352/1352 [==============================] - 88s 65ms/step - loss: 0.0864 - accuracy: 0.9639 - val_loss: 0.1880 - val_accuracy: 0.9503\n",
      "Epoch 11/30\n",
      "1352/1352 [==============================] - 83s 61ms/step - loss: 0.0691 - accuracy: 0.9713 - val_loss: 0.2199 - val_accuracy: 0.9387\n",
      "Epoch 12/30\n",
      "1352/1352 [==============================] - 88s 65ms/step - loss: 0.0705 - accuracy: 0.9716 - val_loss: 0.2038 - val_accuracy: 0.9417\n",
      "Epoch 13/30\n",
      "1352/1352 [==============================] - 91s 67ms/step - loss: 0.0582 - accuracy: 0.9748 - val_loss: 0.2282 - val_accuracy: 0.9412\n",
      "Epoch 14/30\n",
      "  85/1352 [>.............................] - ETA: 1:24 - loss: 0.0626 - accuracy: 0.9732"
     ]
    }
   ],
   "source": [
    "import pandas as pd\n",
    "import numpy as np\n",
    "from sklearn.model_selection import train_test_split\n",
    "from tensorflow.keras.utils import to_categorical\n",
    "from tensorflow.keras.models import Model\n",
    "from tensorflow.keras.layers import Input, Conv1D, GlobalAveragePooling1D, Dense, BatchNormalization, Add, Activation\n",
    "from tensorflow.keras.optimizers import Adam\n",
    "from tensorflow.keras.callbacks import EarlyStopping, ReduceLROnPlateau\n",
    "from sklearn.utils import class_weight\n",
    "from sklearn.preprocessing import LabelEncoder\n",
    "\n",
    "# 데이터 준비\n",
    "df = pd.read_csv(\"combined_result.csv\", encoding='utf-8')\n",
    "feature_cols = [f'mfcc_{i}' for i in range(1, 51)]\n",
    "df = df[feature_cols + ['category_03']]\n",
    "\n",
    "# 소음 카테고리 변환 함수\n",
    "def categorize_noise(category):\n",
    "    if category in ['이륜차경적']:\n",
    "        return '이륜차경적'\n",
    "    elif category in ['이륜차주행음']:\n",
    "        return '이륜차주행음'\n",
    "    elif category in ['차량사이렌']:\n",
    "        return '차량사이렌'\n",
    "    elif category in ['차량주행음']:\n",
    "        return '차량주행음'\n",
    "    elif category in ['차량경적']:\n",
    "        return '차량경적'\n",
    "    else:\n",
    "        return '기타소음'\n",
    "\n",
    "df['label'] = df['category_03'].apply(categorize_noise)\n",
    "df = df.drop('category_03', axis=1)\n",
    "\n",
    "# 특성과 레이블 분리\n",
    "X = df[feature_cols].values\n",
    "y = df['label'].values\n",
    "\n",
    "# 레이블 인코딩\n",
    "le = LabelEncoder()\n",
    "y = le.fit_transform(y)\n",
    "\n",
    "# 데이터 분할\n",
    "X_train, X_test, y_train, y_test = train_test_split(X, y, test_size=0.2, random_state=42, stratify=y)\n",
    "\n",
    "# 데이터 증강 함수\n",
    "def augment_data(X, y):\n",
    "    X_augmented = []\n",
    "    y_augmented = []\n",
    "    \n",
    "    for i in range(len(X)):\n",
    "        X_augmented.append(X[i])\n",
    "        y_augmented.append(y[i])\n",
    "        \n",
    "        # 노이즈 추가\n",
    "        noise = np.random.normal(0, 0.01, X[i].shape)\n",
    "        X_augmented.append(X[i] + noise)\n",
    "        y_augmented.append(y[i])\n",
    "        \n",
    "        # 시간 축 이동\n",
    "        shift = np.random.randint(-5, 6)\n",
    "        X_augmented.append(np.roll(X[i], shift))\n",
    "        y_augmented.append(y[i])\n",
    "    \n",
    "    return np.array(X_augmented), np.array(y_augmented)\n",
    "\n",
    "# 데이터 증강 적용\n",
    "X_train_augmented, y_train_augmented = augment_data(X_train, y_train)\n",
    "\n",
    "# 데이터 형태 변환 (ResNet 입력 형태)\n",
    "X_train_augmented = X_train_augmented.reshape((X_train_augmented.shape[0], X_train_augmented.shape[1], 1))\n",
    "X_test = X_test.reshape((X_test.shape[0], X_test.shape[1], 1))\n",
    "\n",
    "# One-hot encoding\n",
    "num_classes = len(np.unique(y))\n",
    "y_train_augmented = to_categorical(y_train_augmented, num_classes=num_classes)\n",
    "y_test = to_categorical(y_test, num_classes=num_classes)\n",
    "\n",
    "# ResNet 모델 구축\n",
    "def residual_block(x, filters, kernel_size=3, stride=1):\n",
    "    shortcut = x\n",
    "    x = Conv1D(filters, kernel_size, strides=stride, padding='same', activation='relu')(x)\n",
    "    x = BatchNormalization()(x)\n",
    "    x = Conv1D(filters, kernel_size, padding='same', activation='relu')(x)\n",
    "    x = BatchNormalization()(x)\n",
    "    if shortcut.shape[-1] != filters:\n",
    "        shortcut = Conv1D(filters, 1, strides=stride, padding='same')(shortcut)\n",
    "    x = Add()([x, shortcut])\n",
    "    x = Activation('relu')(x)\n",
    "    return x\n",
    "\n",
    "def build_resnet(input_shape, num_classes):\n",
    "    inputs = Input(shape=input_shape)\n",
    "    x = Conv1D(64, 7, strides=2, padding='same', activation='relu')(inputs)\n",
    "    x = BatchNormalization()(x)\n",
    "    x = residual_block(x, 64)\n",
    "    x = residual_block(x, 128, stride=2)\n",
    "    x = residual_block(x, 256, stride=2)\n",
    "    x = residual_block(x, 512, stride=2)\n",
    "    x = GlobalAveragePooling1D()(x)\n",
    "    x = Dense(num_classes, activation='softmax')(x)\n",
    "    return Model(inputs, x)\n",
    "\n",
    "# 모델 생성 및 컴파일\n",
    "resnet_model = build_resnet(X_train_augmented.shape[1:], num_classes=num_classes)\n",
    "optimizer = Adam(learning_rate=0.001)\n",
    "resnet_model.compile(optimizer=optimizer, loss='categorical_crossentropy', metrics=['accuracy'])\n",
    "\n",
    "# 모델 학습\n",
    "early_stopping = EarlyStopping(monitor='val_loss', patience=20, restore_best_weights=True)\n",
    "reduce_lr = ReduceLROnPlateau(monitor='val_loss', factor=0.5, patience=10, min_lr=0.00001)\n",
    "\n",
    "# 클래스 가중치 계산\n",
    "unique_classes = np.unique(y_train)\n",
    "class_weights = class_weight.compute_class_weight('balanced', \n",
    "                                                  classes=unique_classes, \n",
    "                                                  y=y_train)\n",
    "class_weights_dict = dict(zip(unique_classes, class_weights))\n",
    "\n",
    "history = resnet_model.fit(X_train_augmented, y_train_augmented, epochs=30, batch_size=32, \n",
    "                           validation_data=(X_test, y_test), callbacks=[early_stopping, reduce_lr], \n",
    "                           class_weight=class_weights_dict)\n",
    "\n",
    "# 모델 평가\n",
    "test_loss, test_accuracy = resnet_model.evaluate(X_test, y_test)\n",
    "print(f\"Test accuracy: {test_accuracy:.4f}\")\n",
    "\n",
    "# 클래스별 정확도 출력\n",
    "y_pred = resnet_model.predict(X_test)\n",
    "y_pred_classes = np.argmax(y_pred, axis=1)\n",
    "y_true_classes = np.argmax(y_test, axis=1)\n",
    "\n",
    "for i, class_name in enumerate(le.classes_):\n",
    "    class_accuracy = np.mean((y_pred_classes == i) == (y_true_classes == i))\n",
    "    print(f\"Accuracy for class '{class_name}': {class_accuracy:.4f}\")\n"
   ]
  },
  {
   "cell_type": "code",
   "execution_count": null,
   "id": "0d071eb4-2313-4fc6-8ea6-b9f9174a9ceb",
   "metadata": {},
   "outputs": [],
   "source": []
  },
  {
   "cell_type": "markdown",
   "id": "ae53cb5a-27fd-49fe-a4b1-9c12873abd6f",
   "metadata": {},
   "source": [
    "# 새로운 wav 파일 분류 함수"
   ]
  },
  {
   "cell_type": "code",
   "execution_count": 17,
   "id": "7e9a30c0-5e9a-4f24-82f8-fbc631a4d578",
   "metadata": {},
   "outputs": [],
   "source": [
    "def classify_audio(audio_path):\n",
    "    try:\n",
    "        # 음원 파일 로드\n",
    "        y, sr = librosa.load(audio_path, sr=44100)\n",
    "\n",
    "        # MFCC 특징 추출\n",
    "        mfccs = librosa.feature.mfcc(y=y, sr=sr, n_mfcc=50)\n",
    "\n",
    "        # 추출된 MFCC 특징의 평균값을 사용 (각 MFCC 차수별로 하나의 값)\n",
    "        mfccs_processed = np.mean(mfccs, axis=1)\n",
    "\n",
    "        # CNN 입력 형태로 변환 (3D 텐서)\n",
    "        new_data = mfccs_processed.reshape(1, -1, 1)\n",
    "\n",
    "        # 예측 수행\n",
    "        predicted_label_encoded = np.argmax(model.predict(new_data), axis=-1)[0]\n",
    "        predicted_label = label_encoder.inverse_transform([predicted_label_encoded])[0]\n",
    "\n",
    "        return predicted_label\n",
    "\n",
    "    except Exception as e:\n",
    "        print(f\"Error processing audio file: {e}\")\n",
    "        return \"Unknown\"\n"
   ]
  },
  {
   "cell_type": "markdown",
   "id": "c698d007-e120-4a7f-8e58-b9f5c42014f5",
   "metadata": {},
   "source": [
    "## 기타소음"
   ]
  },
  {
   "cell_type": "markdown",
   "id": "44f180ef-d9a5-4f60-96ae-2ba57292bd9e",
   "metadata": {},
   "source": [
    "### 고양이"
   ]
  },
  {
   "cell_type": "code",
   "execution_count": 24,
   "id": "a5f6d5a4-8249-4813-be6b-510b1e614ed6",
   "metadata": {},
   "outputs": [
    {
     "name": "stderr",
     "output_type": "stream",
     "text": [
      "100%|██████████| 274/274 [00:33<00:00,  8.15it/s]"
     ]
    },
    {
     "name": "stdout",
     "output_type": "stream",
     "text": [
      "Classification completed. Results saved to 'cat.csv'\n"
     ]
    },
    {
     "name": "stderr",
     "output_type": "stream",
     "text": [
      "\n"
     ]
    }
   ],
   "source": [
    "folder_path = \"/home/ubuntu/data/etc_noise_data_test_04/동물/15.고양이\"\n",
    "results = []\n",
    "\n",
    "for filename in tqdm(os.listdir(folder_path)):\n",
    "    if filename.endswith(\".wav\"):\n",
    "        file_path = os.path.join(folder_path, filename)\n",
    "        predicted_label = classify_audio(file_path)\n",
    "        results.append({\"File\": filename, \"Predicted Label\": predicted_label})\n",
    "\n",
    "# 5. 결과를 DataFrame으로 변환하고 CSV로 저장\n",
    "results_df_cat = pd.DataFrame(results)\n",
    "results_df_cat.to_csv(\"cat.csv\", index=False)\n",
    "print(\"Classification completed. Results saved to 'cat.csv'\")"
   ]
  },
  {
   "cell_type": "code",
   "execution_count": 57,
   "id": "eb3b05ae-f805-4b56-a9f2-dba96b86e90d",
   "metadata": {},
   "outputs": [
    {
     "data": {
      "text/plain": [
       "기타소음      269\n",
       "차량사이렌       4\n",
       "이륜차주행음      1\n",
       "Name: Predicted Label, dtype: int64"
      ]
     },
     "execution_count": 57,
     "metadata": {},
     "output_type": "execute_result"
    }
   ],
   "source": [
    "results_df_cat['Predicted Label'].value_counts()"
   ]
  },
  {
   "cell_type": "code",
   "execution_count": 25,
   "id": "f664effd-8c60-493c-ba28-623e11740e9f",
   "metadata": {},
   "outputs": [
    {
     "name": "stdout",
     "output_type": "stream",
     "text": [
      "Total Files: 274\n",
      "'기타소음' Count: 269\n",
      "'기타소음' Ratio: 98.18%\n"
     ]
    }
   ],
   "source": [
    "# '기타소음'의 개수와 비율 계산\n",
    "total_files = len(results_df_cat)  # 전체 파일 개수\n",
    "etc_noise_count = results_df_cat[results_df_cat['Predicted Label'] == '기타소음'].shape[0]  # '기타소음'으로 분류된 파일 개수\n",
    "etc_noise_ratio = (etc_noise_count / total_files) * 100  # 비율 계산\n",
    "\n",
    "# 결과 출력\n",
    "print(f\"Total Files: {total_files}\")\n",
    "print(f\"'기타소음' Count: {etc_noise_count}\")\n",
    "print(f\"'기타소음' Ratio: {etc_noise_ratio:.2f}%\")"
   ]
  },
  {
   "cell_type": "markdown",
   "id": "00ca8ad8",
   "metadata": {},
   "source": [
    "### 항공기"
   ]
  },
  {
   "cell_type": "code",
   "execution_count": 22,
   "id": "92ebccdf",
   "metadata": {},
   "outputs": [
    {
     "name": "stderr",
     "output_type": "stream",
     "text": [
      "100%|██████████| 191/191 [00:59<00:00,  3.20it/s]"
     ]
    },
    {
     "name": "stdout",
     "output_type": "stream",
     "text": [
      "Classification completed. Results saved to 'airplane.csv'\n"
     ]
    },
    {
     "name": "stderr",
     "output_type": "stream",
     "text": [
      "\n"
     ]
    }
   ],
   "source": [
    "folder_path = \"/home/ubuntu/data/etc_noise_data_test_04/교통소음/3.항공기/6.비행기\"\n",
    "results = []\n",
    "\n",
    "for filename in tqdm(os.listdir(folder_path)):\n",
    "    if filename.endswith(\".wav\"):\n",
    "        file_path = os.path.join(folder_path, filename)\n",
    "        predicted_label = classify_audio(file_path)\n",
    "        results.append({\"File\": filename, \"Predicted Label\": predicted_label})\n",
    "\n",
    "# 5. 결과를 DataFrame으로 변환하고 CSV로 저장\n",
    "results_df_airplane = pd.DataFrame(results)\n",
    "results_df_airplane.to_csv(\"airplane.csv\", index=False)\n",
    "print(\"Classification completed. Results saved to 'airplane.csv'\")"
   ]
  },
  {
   "cell_type": "code",
   "execution_count": 58,
   "id": "8851b253-db48-47ef-ad1a-6cecebb59f2a",
   "metadata": {},
   "outputs": [
    {
     "data": {
      "text/plain": [
       "기타소음      172\n",
       "이륜차주행음     11\n",
       "차량주행음       7\n",
       "차량사이렌       1\n",
       "Name: Predicted Label, dtype: int64"
      ]
     },
     "execution_count": 58,
     "metadata": {},
     "output_type": "execute_result"
    }
   ],
   "source": [
    "results_df_airplane['Predicted Label'].value_counts()"
   ]
  },
  {
   "cell_type": "code",
   "execution_count": 23,
   "id": "764059f8-07fc-4862-adc4-df50e8ea1e53",
   "metadata": {},
   "outputs": [
    {
     "name": "stdout",
     "output_type": "stream",
     "text": [
      "Total Files: 191\n",
      "'기타소음' Count: 172\n",
      "'기타소음' Ratio: 90.05%\n"
     ]
    }
   ],
   "source": [
    "# '기타소음'의 개수와 비율 계산\n",
    "total_files = len(results_df_airplane)  # 전체 파일 개수\n",
    "etc_noise_count = results_df_airplane[results_df_airplane['Predicted Label'] == '기타소음'].shape[0]  # '기타소음'으로 분류된 파일 개수\n",
    "etc_noise_ratio = (etc_noise_count / total_files) * 100  # 비율 계산\n",
    "\n",
    "# 결과 출력\n",
    "print(f\"Total Files: {total_files}\")\n",
    "print(f\"'기타소음' Count: {etc_noise_count}\")\n",
    "print(f\"'기타소음' Ratio: {etc_noise_ratio:.2f}%\")"
   ]
  },
  {
   "cell_type": "markdown",
   "id": "1033c4f5-a370-4e3d-afb9-90a573e8b1f6",
   "metadata": {},
   "source": [
    "### 헬리콥터"
   ]
  },
  {
   "cell_type": "code",
   "execution_count": 27,
   "id": "12bb0e5d-4b87-4855-a0c3-35d758d921f1",
   "metadata": {},
   "outputs": [
    {
     "name": "stderr",
     "output_type": "stream",
     "text": [
      "100%|██████████| 435/435 [00:53<00:00,  8.12it/s]"
     ]
    },
    {
     "name": "stdout",
     "output_type": "stream",
     "text": [
      "Classification completed. Results saved to 'helicopter.csv'\n"
     ]
    },
    {
     "name": "stderr",
     "output_type": "stream",
     "text": [
      "\n"
     ]
    }
   ],
   "source": [
    "folder_path = \"/home/ubuntu/data/etc_noise_data_test_04/교통소음/3.항공기/7.헬리콥터\"\n",
    "results = []\n",
    "\n",
    "for filename in tqdm(os.listdir(folder_path)):\n",
    "    if filename.endswith(\".wav\"):\n",
    "        file_path = os.path.join(folder_path, filename)\n",
    "        predicted_label = classify_audio(file_path)\n",
    "        results.append({\"File\": filename, \"Predicted Label\": predicted_label})\n",
    "\n",
    "# 5. 결과를 DataFrame으로 변환하고 CSV로 저장\n",
    "results_df_helicopter = pd.DataFrame(results)\n",
    "results_df_helicopter.to_csv(\"helicopter.csv\", index=False)\n",
    "print(\"Classification completed. Results saved to 'helicopter.csv'\")"
   ]
  },
  {
   "cell_type": "code",
   "execution_count": 59,
   "id": "83a81ea4-a36d-4b88-a863-123842798674",
   "metadata": {},
   "outputs": [
    {
     "data": {
      "text/plain": [
       "기타소음     434\n",
       "차량사이렌      1\n",
       "Name: Predicted Label, dtype: int64"
      ]
     },
     "execution_count": 59,
     "metadata": {},
     "output_type": "execute_result"
    }
   ],
   "source": [
    "results_df_helicopter['Predicted Label'].value_counts()"
   ]
  },
  {
   "cell_type": "code",
   "execution_count": 28,
   "id": "57c04930-61f1-4a0c-9a0c-8ae67136038a",
   "metadata": {},
   "outputs": [
    {
     "name": "stdout",
     "output_type": "stream",
     "text": [
      "Total Files: 435\n",
      "'기타소음' Count: 434\n",
      "'기타소음' Ratio: 99.77%\n"
     ]
    }
   ],
   "source": [
    "# '기타소음'의 개수와 비율 계산\n",
    "total_files = len(results_df_helicopter)  # 전체 파일 개수\n",
    "etc_noise_count = results_df_helicopter[results_df_helicopter['Predicted Label'] == '기타소음'].shape[0]  # '기타소음'으로 분류된 파일 개수\n",
    "etc_noise_ratio = (etc_noise_count / total_files) * 100  # 비율 계산\n",
    "\n",
    "# 결과 출력\n",
    "print(f\"Total Files: {total_files}\")\n",
    "print(f\"'기타소음' Count: {etc_noise_count}\")\n",
    "print(f\"'기타소음' Ratio: {etc_noise_ratio:.2f}%\")"
   ]
  },
  {
   "cell_type": "markdown",
   "id": "47cee9b5-d114-451d-b0fe-cb1657da67ab",
   "metadata": {},
   "source": [
    "### 가전 청소기"
   ]
  },
  {
   "cell_type": "code",
   "execution_count": 30,
   "id": "e3eea1d3-8a69-41d2-8a38-88e0ceecfbd1",
   "metadata": {},
   "outputs": [
    {
     "name": "stderr",
     "output_type": "stream",
     "text": [
      "100%|██████████| 102/102 [00:48<00:00,  2.12it/s]"
     ]
    },
    {
     "name": "stdout",
     "output_type": "stream",
     "text": [
      "Classification completed. Results saved to 'vacuum.csv'\n"
     ]
    },
    {
     "name": "stderr",
     "output_type": "stream",
     "text": [
      "\n"
     ]
    }
   ],
   "source": [
    "folder_path = \"/home/ubuntu/data/etc_noise_data_test_04/가전/12.청소기\"\n",
    "results = []\n",
    "\n",
    "for filename in tqdm(os.listdir(folder_path)):\n",
    "    if filename.endswith(\".wav\"):\n",
    "        file_path = os.path.join(folder_path, filename)\n",
    "        predicted_label = classify_audio(file_path)\n",
    "        results.append({\"File\": filename, \"Predicted Label\": predicted_label})\n",
    "\n",
    "# 5. 결과를 DataFrame으로 변환하고 CSV로 저장\n",
    "results_df_vacuum = pd.DataFrame(results)\n",
    "results_df_vacuum.to_csv(\"vacuum.csv\", index=False)\n",
    "print(\"Classification completed. Results saved to 'vacuum.csv'\")"
   ]
  },
  {
   "cell_type": "code",
   "execution_count": 60,
   "id": "866304c4-3d5b-4b54-a3aa-4e03c54401b1",
   "metadata": {},
   "outputs": [
    {
     "data": {
      "text/plain": [
       "기타소음      97\n",
       "이륜차주행음     2\n",
       "차량경적       2\n",
       "이륜차경적      1\n",
       "Name: Predicted Label, dtype: int64"
      ]
     },
     "execution_count": 60,
     "metadata": {},
     "output_type": "execute_result"
    }
   ],
   "source": [
    "results_df_vacuum['Predicted Label'].value_counts()"
   ]
  },
  {
   "cell_type": "code",
   "execution_count": 31,
   "id": "6b5f548c-099a-46c4-b9ad-be302b7595ad",
   "metadata": {},
   "outputs": [
    {
     "name": "stdout",
     "output_type": "stream",
     "text": [
      "Total Files: 102\n",
      "'기타소음' Count: 97\n",
      "'기타소음' Ratio: 95.10%\n"
     ]
    }
   ],
   "source": [
    "# '기타소음'의 개수와 비율 계산\n",
    "total_files = len(results_df_vacuum)  # 전체 파일 개수\n",
    "etc_noise_count = results_df_vacuum[results_df_vacuum['Predicted Label'] == '기타소음'].shape[0]  # '기타소음'으로 분류된 파일 개수\n",
    "etc_noise_ratio = (etc_noise_count / total_files) * 100  # 비율 계산\n",
    "\n",
    "# 결과 출력\n",
    "print(f\"Total Files: {total_files}\")\n",
    "print(f\"'기타소음' Count: {etc_noise_count}\")\n",
    "print(f\"'기타소음' Ratio: {etc_noise_ratio:.2f}%\")"
   ]
  },
  {
   "cell_type": "markdown",
   "id": "9b417044",
   "metadata": {},
   "source": [
    "## 교통소음"
   ]
  },
  {
   "cell_type": "markdown",
   "id": "fc0cab28-a711-48c7-8881-0653e74cd689",
   "metadata": {},
   "source": [
    "### 차량 사이렌"
   ]
  },
  {
   "cell_type": "code",
   "execution_count": 32,
   "id": "7a08555d",
   "metadata": {},
   "outputs": [
    {
     "name": "stderr",
     "output_type": "stream",
     "text": [
      "100%|██████████| 249/249 [00:36<00:00,  6.83it/s]"
     ]
    },
    {
     "name": "stdout",
     "output_type": "stream",
     "text": [
      "Classification completed. Results saved to 'car_siren.csv'\n"
     ]
    },
    {
     "name": "stderr",
     "output_type": "stream",
     "text": [
      "\n"
     ]
    }
   ],
   "source": [
    "folder_path = \"/home/ubuntu/data/test_data/raw_data_test/1.Car/2.siren_of_car\"\n",
    "results = []\n",
    "\n",
    "for filename in tqdm(os.listdir(folder_path)):\n",
    "    if filename.endswith(\".wav\"):\n",
    "        file_path = os.path.join(folder_path, filename)\n",
    "        predicted_label = classify_audio(file_path)\n",
    "        results.append({\"File\": filename, \"Predicted Label\": predicted_label})\n",
    "\n",
    "# 5. 결과를 DataFrame으로 변환하고 CSV로 저장\n",
    "results_df_car_siren = pd.DataFrame(results)\n",
    "results_df_car_siren.to_csv(\"car_siren.csv\", index=False)\n",
    "print(\"Classification completed. Results saved to 'car_siren.csv'\")"
   ]
  },
  {
   "cell_type": "code",
   "execution_count": 44,
   "id": "0e4248b0-fd4d-4806-8ef9-2ed3e5b9ae08",
   "metadata": {},
   "outputs": [
    {
     "data": {
      "text/plain": [
       "차량사이렌     243\n",
       "이륜차주행음      3\n",
       "차량주행음       2\n",
       "차량경적        1\n",
       "Name: Predicted Label, dtype: int64"
      ]
     },
     "execution_count": 44,
     "metadata": {},
     "output_type": "execute_result"
    }
   ],
   "source": [
    "results_df_car_siren['Predicted Label'].value_counts()"
   ]
  },
  {
   "cell_type": "code",
   "execution_count": 52,
   "id": "3f9027dd-bc1e-4a62-b58e-a189d8875336",
   "metadata": {},
   "outputs": [
    {
     "name": "stdout",
     "output_type": "stream",
     "text": [
      "Total Files: 249\n",
      "'차량사이렌' Count: 243\n",
      "'차량사이렌' Ratio: 97.59%\n"
     ]
    }
   ],
   "source": [
    "# '기타소음'의 개수와 비율 계산\n",
    "total_files = len(results_df_car_siren)  # 전체 파일 개수\n",
    "etc_noise_count = results_df_car_siren[results_df_car_siren['Predicted Label'] == '차량사이렌'].shape[0]  # '기타소음'으로 분류된 파일 개수\n",
    "etc_noise_ratio = (etc_noise_count / total_files) * 100  # 비율 계산\n",
    "\n",
    "# 결과 출력\n",
    "print(f\"Total Files: {total_files}\")\n",
    "print(f\"'차량사이렌' Count: {etc_noise_count}\")\n",
    "print(f\"'차량사이렌' Ratio: {etc_noise_ratio:.2f}%\")"
   ]
  },
  {
   "cell_type": "markdown",
   "id": "38bb0f8f",
   "metadata": {},
   "source": [
    "### 차량 경적"
   ]
  },
  {
   "cell_type": "code",
   "execution_count": 34,
   "id": "b32ebd7a",
   "metadata": {},
   "outputs": [
    {
     "name": "stderr",
     "output_type": "stream",
     "text": [
      "100%|██████████| 3189/3189 [05:47<00:00,  9.18it/s]"
     ]
    },
    {
     "name": "stdout",
     "output_type": "stream",
     "text": [
      "Classification completed. Results saved to 'car_horn.csv'\n"
     ]
    },
    {
     "name": "stderr",
     "output_type": "stream",
     "text": [
      "\n"
     ]
    }
   ],
   "source": [
    "folder_path = \"/home/ubuntu/data/raw_data/1.Car/1.horn_of_car\"\n",
    "results = []\n",
    "\n",
    "for filename in tqdm(os.listdir(folder_path)):\n",
    "    if filename.endswith(\".wav\"):\n",
    "        file_path = os.path.join(folder_path, filename)\n",
    "        predicted_label = classify_audio(file_path)\n",
    "        results.append({\"File\": filename, \"Predicted Label\": predicted_label})\n",
    "\n",
    "# 5. 결과를 DataFrame으로 변환하고 CSV로 저장\n",
    "results_df_car_horn = pd.DataFrame(results)\n",
    "results_df_car_horn.to_csv(\"car_horn.csv\", index=False)\n",
    "print(\"Classification completed. Results saved to 'car_horn.csv'\")"
   ]
  },
  {
   "cell_type": "code",
   "execution_count": 45,
   "id": "38c08578-d1e9-4b49-850f-0a29d6adf05d",
   "metadata": {},
   "outputs": [
    {
     "data": {
      "text/plain": [
       "차량경적      3127\n",
       "이륜차경적       46\n",
       "이륜차주행음      13\n",
       "기타소음         2\n",
       "차량사이렌        1\n",
       "Name: Predicted Label, dtype: int64"
      ]
     },
     "execution_count": 45,
     "metadata": {},
     "output_type": "execute_result"
    }
   ],
   "source": [
    "results_df_car_horn['Predicted Label'].value_counts()"
   ]
  },
  {
   "cell_type": "code",
   "execution_count": 53,
   "id": "02e07bba-73fb-40bd-b73c-ed7f8e5740c9",
   "metadata": {},
   "outputs": [
    {
     "name": "stdout",
     "output_type": "stream",
     "text": [
      "Total Files: 3189\n",
      "'차량경적' Count: 3127\n",
      "'차량경적' Ratio: 98.06%\n"
     ]
    }
   ],
   "source": [
    "# '기타소음'의 개수와 비율 계산\n",
    "total_files = len(results_df_car_horn)  # 전체 파일 개수\n",
    "etc_noise_count = results_df_car_horn[results_df_car_horn['Predicted Label'] == '차량경적'].shape[0]  # '기타소음'으로 분류된 파일 개수\n",
    "etc_noise_ratio = (etc_noise_count / total_files) * 100  # 비율 계산\n",
    "\n",
    "# 결과 출력\n",
    "print(f\"Total Files: {total_files}\")\n",
    "print(f\"'차량경적' Count: {etc_noise_count}\")\n",
    "print(f\"'차량경적' Ratio: {etc_noise_ratio:.2f}%\")"
   ]
  },
  {
   "cell_type": "markdown",
   "id": "359a5d0b-8336-4e1c-be05-0b3f3090b1e1",
   "metadata": {},
   "source": [
    "### 차량 주행음"
   ]
  },
  {
   "cell_type": "code",
   "execution_count": 37,
   "id": "3fb8e9ae-f896-48f4-8fb3-1b1f3872ca23",
   "metadata": {},
   "outputs": [
    {
     "name": "stderr",
     "output_type": "stream",
     "text": [
      "100%|██████████| 227/227 [00:31<00:00,  7.27it/s]"
     ]
    },
    {
     "name": "stdout",
     "output_type": "stream",
     "text": [
      "Classification completed. Results saved to 'car_driving.csv'\n"
     ]
    },
    {
     "name": "stderr",
     "output_type": "stream",
     "text": [
      "\n"
     ]
    }
   ],
   "source": [
    "folder_path = \"/home/ubuntu/data/test_data/raw_data_test/1.Car/3.driving_sound_of_car\"\n",
    "results = []\n",
    "\n",
    "for filename in tqdm(os.listdir(folder_path)):\n",
    "    if filename.endswith(\".wav\"):\n",
    "        file_path = os.path.join(folder_path, filename)\n",
    "        predicted_label = classify_audio(file_path)\n",
    "        results.append({\"File\": filename, \"Predicted Label\": predicted_label})\n",
    "\n",
    "# 5. 결과를 DataFrame으로 변환하고 CSV로 저장\n",
    "results_df_car_driving = pd.DataFrame(results)\n",
    "results_df_car_driving.to_csv(\"car_driving.csv\", index=False)\n",
    "print(\"Classification completed. Results saved to 'car_driving.csv'\")"
   ]
  },
  {
   "cell_type": "code",
   "execution_count": 46,
   "id": "1170284e-cb3d-42dd-8456-d6431b3c428d",
   "metadata": {},
   "outputs": [
    {
     "data": {
      "text/plain": [
       "차량주행음     200\n",
       "이륜차주행음     15\n",
       "기타소음        7\n",
       "차량사이렌       3\n",
       "차량경적        2\n",
       "Name: Predicted Label, dtype: int64"
      ]
     },
     "execution_count": 46,
     "metadata": {},
     "output_type": "execute_result"
    }
   ],
   "source": [
    "results_df_car_driving['Predicted Label'].value_counts()"
   ]
  },
  {
   "cell_type": "code",
   "execution_count": 54,
   "id": "9772b060-f761-4ac8-a4ac-12d087e7289e",
   "metadata": {},
   "outputs": [
    {
     "name": "stdout",
     "output_type": "stream",
     "text": [
      "Total Files: 227\n",
      "'차량주행음' Count: 200\n",
      "'차량주행음' Ratio: 88.11%\n"
     ]
    }
   ],
   "source": [
    "# '기타소음'의 개수와 비율 계산\n",
    "total_files = len(results_df_car_driving)  # 전체 파일 개수\n",
    "etc_noise_count = results_df_car_driving[results_df_car_driving['Predicted Label'] == '차량주행음'].shape[0]  # '기타소음'으로 분류된 파일 개수\n",
    "etc_noise_ratio = (etc_noise_count / total_files) * 100  # 비율 계산\n",
    "\n",
    "# 결과 출력\n",
    "print(f\"Total Files: {total_files}\")\n",
    "print(f\"'차량주행음' Count: {etc_noise_count}\")\n",
    "print(f\"'차량주행음' Ratio: {etc_noise_ratio:.2f}%\")"
   ]
  },
  {
   "cell_type": "markdown",
   "id": "8fe461b9-ed12-4360-a937-4119060654ab",
   "metadata": {},
   "source": [
    "### 이륜차 경적"
   ]
  },
  {
   "cell_type": "code",
   "execution_count": 48,
   "id": "8ca2add6-39d9-4f00-a34e-865b2701b450",
   "metadata": {},
   "outputs": [
    {
     "name": "stderr",
     "output_type": "stream",
     "text": [
      "100%|██████████| 519/519 [00:45<00:00, 11.35it/s]"
     ]
    },
    {
     "name": "stdout",
     "output_type": "stream",
     "text": [
      "Classification completed. Results saved to 'motorcycle_horn.csv'\n"
     ]
    },
    {
     "name": "stderr",
     "output_type": "stream",
     "text": [
      "\n"
     ]
    }
   ],
   "source": [
    "folder_path = \"/home/ubuntu/data/test_data/raw_data_test/2.Motorcycle/4.horn_of_motorcycle\"\n",
    "results = []\n",
    "\n",
    "for filename in tqdm(os.listdir(folder_path)):\n",
    "    if filename.endswith(\".wav\"):\n",
    "        file_path = os.path.join(folder_path, filename)\n",
    "        predicted_label = classify_audio(file_path)\n",
    "        results.append({\"File\": filename, \"Predicted Label\": predicted_label})\n",
    "\n",
    "# 5. 결과를 DataFrame으로 변환하고 CSV로 저장\n",
    "results_df_motorcycle_horn = pd.DataFrame(results)\n",
    "results_df_motorcycle_horn.to_csv(\"motorcycle_horn.csv\", index=False)\n",
    "print(\"Classification completed. Results saved to 'motorcycle_horn.csv'\")"
   ]
  },
  {
   "cell_type": "code",
   "execution_count": 49,
   "id": "0fb240be-bb65-450a-a998-0b5e90ce6df6",
   "metadata": {},
   "outputs": [
    {
     "data": {
      "text/plain": [
       "이륜차경적     498\n",
       "차량경적       20\n",
       "이륜차주행음      1\n",
       "Name: Predicted Label, dtype: int64"
      ]
     },
     "execution_count": 49,
     "metadata": {},
     "output_type": "execute_result"
    }
   ],
   "source": [
    "results_df_motorcycle_horn['Predicted Label'].value_counts()"
   ]
  },
  {
   "cell_type": "code",
   "execution_count": 55,
   "id": "6e8c888d-ab95-4692-8561-fc98b2dbfbc4",
   "metadata": {},
   "outputs": [
    {
     "name": "stdout",
     "output_type": "stream",
     "text": [
      "Total Files: 519\n",
      "'이륜차경적' Count: 498\n",
      "'이륜차경적' Ratio: 95.95%\n"
     ]
    }
   ],
   "source": [
    "# '기타소음'의 개수와 비율 계산\n",
    "total_files = len(results_df_motorcycle_horn)  # 전체 파일 개수\n",
    "etc_noise_count = results_df_motorcycle_horn[results_df_motorcycle_horn['Predicted Label'] == '이륜차경적'].shape[0]  # '기타소음'으로 분류된 파일 개수\n",
    "etc_noise_ratio = (etc_noise_count / total_files) * 100  # 비율 계산\n",
    "\n",
    "# 결과 출력\n",
    "print(f\"Total Files: {total_files}\")\n",
    "print(f\"'이륜차경적' Count: {etc_noise_count}\")\n",
    "print(f\"'이륜차경적' Ratio: {etc_noise_ratio:.2f}%\")"
   ]
  },
  {
   "cell_type": "markdown",
   "id": "e345929e-69f5-4375-8d2d-a74a3046f154",
   "metadata": {},
   "source": [
    "### 이륜차 주행음"
   ]
  },
  {
   "cell_type": "code",
   "execution_count": 41,
   "id": "790b7294-918c-42c4-a668-bacaed714c0a",
   "metadata": {},
   "outputs": [
    {
     "name": "stderr",
     "output_type": "stream",
     "text": [
      "100%|██████████| 498/498 [00:47<00:00, 10.45it/s]"
     ]
    },
    {
     "name": "stdout",
     "output_type": "stream",
     "text": [
      "Classification completed. Results saved to 'motorcycle_driving.csv'\n"
     ]
    },
    {
     "name": "stderr",
     "output_type": "stream",
     "text": [
      "\n"
     ]
    }
   ],
   "source": [
    "folder_path = \"/home/ubuntu/data/test_data/raw_data_test/2.Motorcycle/5.driving_sound_of_motorcycle\"\n",
    "results = []\n",
    "\n",
    "for filename in tqdm(os.listdir(folder_path)):\n",
    "    if filename.endswith(\".wav\"):\n",
    "        file_path = os.path.join(folder_path, filename)\n",
    "        predicted_label = classify_audio(file_path)\n",
    "        results.append({\"File\": filename, \"Predicted Label\": predicted_label})\n",
    "\n",
    "# 5. 결과를 DataFrame으로 변환하고 CSV로 저장\n",
    "results_df_motorcycle_driving = pd.DataFrame(results)\n",
    "results_df_motorcycle_driving.to_csv(\"motorcycle_driving.csv\", index=False)\n",
    "print(\"Classification completed. Results saved to 'motorcycle_driving.csv'\")"
   ]
  },
  {
   "cell_type": "code",
   "execution_count": 51,
   "id": "d1ff1c90-fc34-4e56-8cd5-05655656f45a",
   "metadata": {},
   "outputs": [
    {
     "data": {
      "text/plain": [
       "이륜차주행음    464\n",
       "차량주행음      23\n",
       "기타소음        6\n",
       "차량사이렌       4\n",
       "차량경적        1\n",
       "Name: Predicted Label, dtype: int64"
      ]
     },
     "execution_count": 51,
     "metadata": {},
     "output_type": "execute_result"
    }
   ],
   "source": [
    "results_df_motorcycle_driving['Predicted Label'].value_counts()"
   ]
  },
  {
   "cell_type": "code",
   "execution_count": 56,
   "id": "d24bd1cc-3c1f-4f6e-b57e-a01a4ff2998a",
   "metadata": {},
   "outputs": [
    {
     "name": "stdout",
     "output_type": "stream",
     "text": [
      "Total Files: 498\n",
      "'이륜차주행음' Count: 464\n",
      "'이륜차주행음' Ratio: 93.17%\n"
     ]
    }
   ],
   "source": [
    "# '기타소음'의 개수와 비율 계산\n",
    "total_files = len(results_df_motorcycle_driving)  # 전체 파일 개수\n",
    "etc_noise_count = results_df_motorcycle_driving[results_df_motorcycle_driving['Predicted Label'] == '이륜차주행음'].shape[0]  # '기타소음'으로 분류된 파일 개수\n",
    "etc_noise_ratio = (etc_noise_count / total_files) * 100  # 비율 계산\n",
    "\n",
    "# 결과 출력\n",
    "print(f\"Total Files: {total_files}\")\n",
    "print(f\"'이륜차주행음' Count: {etc_noise_count}\")\n",
    "print(f\"'이륜차주행음' Ratio: {etc_noise_ratio:.2f}%\")"
   ]
  },
  {
   "cell_type": "code",
   "execution_count": null,
   "id": "acea947a-66c7-4515-abd7-00b79a3736d9",
   "metadata": {},
   "outputs": [],
   "source": []
  }
 ],
 "metadata": {
  "kernelspec": {
   "display_name": "Python(ml_env_python3.6)",
   "language": "python",
   "name": "ml_env_python3.6"
  },
  "language_info": {
   "codemirror_mode": {
    "name": "ipython",
    "version": 3
   },
   "file_extension": ".py",
   "mimetype": "text/x-python",
   "name": "python",
   "nbconvert_exporter": "python",
   "pygments_lexer": "ipython3",
   "version": "3.6.13"
  }
 },
 "nbformat": 4,
 "nbformat_minor": 5
}
