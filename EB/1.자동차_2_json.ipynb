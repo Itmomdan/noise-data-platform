{
 "cells": [
  {
   "cell_type": "code",
   "execution_count": 1,
   "id": "8e457f85",
   "metadata": {},
   "outputs": [
    {
     "name": "stdout",
     "output_type": "stream",
     "text": [
      "3.1.2\n"
     ]
    }
   ],
   "source": [
    "import pyspark\n",
    "print(pyspark.__version__)"
   ]
  },
  {
   "cell_type": "code",
   "execution_count": 8,
   "id": "90c3bbd3",
   "metadata": {},
   "outputs": [],
   "source": [
    "from pyspark.sql import SparkSession\n",
    "\n",
    "# SparkSession 생성\n",
    "spark = SparkSession.builder \\\n",
    "    .appName(\"HDFS File Reading\") \\\n",
    "    .config(\"spark.hadoop.fs.defaultFS\", \"hdfs://localhost:9000\") \\\n",
    "    .getOrCreate()"
   ]
  },
  {
   "cell_type": "code",
   "execution_count": 9,
   "id": "597cbac7",
   "metadata": {},
   "outputs": [],
   "source": [
    "# HDFS에서 JSON 파일 읽기\n",
    "file_path = \"hdfs://localhost:9000/shared_data/1.자동차_2.json\""
   ]
  },
  {
   "cell_type": "code",
   "execution_count": 10,
   "id": "9644ba91",
   "metadata": {},
   "outputs": [],
   "source": [
    "# 데이터프레임으로 파일 읽기\n",
    "df = spark.read.json(file_path, multiLine= True)"
   ]
  },
  {
   "cell_type": "code",
   "execution_count": 11,
   "id": "39adab40",
   "metadata": {},
   "outputs": [
    {
     "name": "stdout",
     "output_type": "stream",
     "text": [
      "root\n",
      " |-- annotations: array (nullable = true)\n",
      " |    |-- element: struct (containsNull = true)\n",
      " |    |    |-- area: struct (nullable = true)\n",
      " |    |    |    |-- end: double (nullable = true)\n",
      " |    |    |    |-- start: double (nullable = true)\n",
      " |    |    |-- categories: struct (nullable = true)\n",
      " |    |    |    |-- category_01: string (nullable = true)\n",
      " |    |    |    |-- category_02: string (nullable = true)\n",
      " |    |    |    |-- category_03: string (nullable = true)\n",
      " |    |    |-- decibel: long (nullable = true)\n",
      " |    |    |-- labelName: string (nullable = true)\n",
      " |    |    |-- soundQuality: string (nullable = true)\n",
      " |    |    |-- subCategory: string (nullable = true)\n",
      " |-- audio: struct (nullable = true)\n",
      " |    |-- bitRate: string (nullable = true)\n",
      " |    |-- duration: double (nullable = true)\n",
      " |    |-- fileFormat: string (nullable = true)\n",
      " |    |-- fileName: string (nullable = true)\n",
      " |    |-- fileSize: long (nullable = true)\n",
      " |    |-- recodingType: string (nullable = true)\n",
      " |    |-- sampleRate: string (nullable = true)\n",
      " |-- environment: struct (nullable = true)\n",
      " |    |-- acqDevice: string (nullable = true)\n",
      " |    |-- acqMethod: string (nullable = true)\n",
      " |    |-- acqType: string (nullable = true)\n",
      " |    |-- areaUse: string (nullable = true)\n",
      " |    |-- dayNight: string (nullable = true)\n",
      " |    |-- direction: string (nullable = true)\n",
      " |    |-- distance: string (nullable = true)\n",
      " |    |-- district: string (nullable = true)\n",
      " |    |-- gps: struct (nullable = true)\n",
      " |    |    |-- latitude: double (nullable = true)\n",
      " |    |    |-- longitude: double (nullable = true)\n",
      " |    |-- micClass: string (nullable = true)\n",
      " |    |-- obstacle: string (nullable = true)\n",
      " |    |-- place: string (nullable = true)\n",
      " |    |-- recordingTime: string (nullable = true)\n",
      " |    |-- urban: string (nullable = true)\n",
      " |    |-- weather: string (nullable = true)\n",
      " |-- info: struct (nullable = true)\n",
      " |    |-- contributor: string (nullable = true)\n",
      " |    |-- dateCreated: string (nullable = true)\n",
      " |    |-- description: string (nullable = true)\n",
      " |    |-- uri: string (nullable = true)\n",
      " |    |-- version: double (nullable = true)\n",
      " |    |-- year: long (nullable = true)\n",
      " |-- license: struct (nullable = true)\n",
      " |    |-- name: string (nullable = true)\n",
      " |    |-- url: string (nullable = true)\n",
      "\n",
      "+--------------------------------------------------------------------------------------+------------------------------------------------------------+----------------------------------------------------------------------------------------------------------------------------+-----------------------------------------------------------------------+-------------------------------+\n",
      "|annotations                                                                           |audio                                                       |environment                                                                                                                 |info                                                                   |license                        |\n",
      "+--------------------------------------------------------------------------------------+------------------------------------------------------------+----------------------------------------------------------------------------------------------------------------------------+-----------------------------------------------------------------------+-------------------------------+\n",
      "|[{{4.62, 3.02}, {교통소음, 자동차, 차량경적}, 73, 1.자동차_2_1.wav, 정상, 소형차경적}]|{705kbps, 7.743, wav, 1.자동차_2.wav, 682990, Mono, 44.1kHz}|{갤럭시탭S6, 자연적, 제작, 상업지역, 주간, 우, 10m, 혜화동, {37.5, 127.02}, 무지향성, 없음, 도로변, 10:42, 서울특별시, 맑음}|{IMR, 2021-09-04, 도시 소리 데이터, https://www.aihub.or.kr, 1.0, 2021}|{CC 0, https://www.aihub.or.kr}|\n",
      "+--------------------------------------------------------------------------------------+------------------------------------------------------------+----------------------------------------------------------------------------------------------------------------------------+-----------------------------------------------------------------------+-------------------------------+\n",
      "\n"
     ]
    }
   ],
   "source": [
    "# 데이터 구조 확인\n",
    "df.printSchema()\n",
    "\n",
    "# 데이터 내용 확인\n",
    "df.show(truncate=False)"
   ]
  },
  {
   "cell_type": "code",
   "execution_count": null,
   "id": "ba622e80",
   "metadata": {},
   "outputs": [],
   "source": []
  }
 ],
 "metadata": {
  "kernelspec": {
   "display_name": "Python 3 (ipykernel)",
   "language": "python",
   "name": "python3"
  },
  "language_info": {
   "codemirror_mode": {
    "name": "ipython",
    "version": 3
   },
   "file_extension": ".py",
   "mimetype": "text/x-python",
   "name": "python",
   "nbconvert_exporter": "python",
   "pygments_lexer": "ipython3",
   "version": "3.8.20"
  }
 },
 "nbformat": 4,
 "nbformat_minor": 5
}
